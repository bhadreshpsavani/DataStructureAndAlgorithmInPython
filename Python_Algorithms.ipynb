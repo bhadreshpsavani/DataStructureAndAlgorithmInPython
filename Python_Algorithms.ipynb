{
  "nbformat": 4,
  "nbformat_minor": 0,
  "metadata": {
    "colab": {
      "name": "Python Algorithms.ipynb",
      "provenance": [],
      "collapsed_sections": [],
      "authorship_tag": "ABX9TyNwJJI7TUBrWSDA7Ue+KXQI",
      "include_colab_link": true
    },
    "kernelspec": {
      "name": "python3",
      "display_name": "Python 3"
    }
  },
  "cells": [
    {
      "cell_type": "markdown",
      "metadata": {
        "id": "view-in-github",
        "colab_type": "text"
      },
      "source": [
        "<a href=\"https://colab.research.google.com/github/bhadreshpsavani/Python-Notes/blob/master/Python_Algorithms.ipynb\" target=\"_parent\"><img src=\"https://colab.research.google.com/assets/colab-badge.svg\" alt=\"Open In Colab\"/></a>"
      ]
    },
    {
      "cell_type": "markdown",
      "metadata": {
        "id": "aEBFwm4Zx6If",
        "colab_type": "text"
      },
      "source": [
        "## Greedy Search:\n",
        "\n",
        "We will write a function for coin selection problem"
      ]
    },
    {
      "cell_type": "code",
      "metadata": {
        "id": "_nGRlmllx2Er",
        "colab_type": "code",
        "colab": {}
      },
      "source": [
        "def coin_change(amount, coins):\n",
        "  coin_chosen = 0\n",
        "  if amount in coins:\n",
        "    return amount\n",
        "  for coin in coins:\n",
        "    if coin<amount:\n",
        "      coin_chosen=coin\n",
        "    else:\n",
        "      break\n",
        "  remaining_amount=amount-coin_chosen\n",
        "  return str(coin_chosen)+\" \"+str(coin_change(remaining_amount, coins))"
      ],
      "execution_count": null,
      "outputs": []
    },
    {
      "cell_type": "code",
      "metadata": {
        "id": "v-HQeWoGzNYp",
        "colab_type": "code",
        "colab": {
          "base_uri": "https://localhost:8080/",
          "height": 35
        },
        "outputId": "65260c75-66ae-4ecb-c897-fabe92461739"
      },
      "source": [
        "coin_change(8, [1, 3, 6])"
      ],
      "execution_count": null,
      "outputs": [
        {
          "output_type": "execute_result",
          "data": {
            "application/vnd.google.colaboratory.intrinsic+json": {
              "type": "string"
            },
            "text/plain": [
              "'6 1 1'"
            ]
          },
          "metadata": {
            "tags": []
          },
          "execution_count": 9
        }
      ]
    },
    {
      "cell_type": "markdown",
      "metadata": {
        "id": "QhiA0eMiz_yP",
        "colab_type": "text"
      },
      "source": [
        " Travelling salesman problem??"
      ]
    },
    {
      "cell_type": "markdown",
      "metadata": {
        "id": "ayVsvjRs0IQh",
        "colab_type": "text"
      },
      "source": [
        "## Staircase Problem:\n",
        "Memo Approach:"
      ]
    },
    {
      "cell_type": "code",
      "metadata": {
        "id": "ORl4RUkgzT8e",
        "colab_type": "code",
        "colab": {}
      },
      "source": [
        "def climbStairs(self, n: int) -> int:\n",
        "    memo =[0]*(n+1)\n",
        "    return self.climbStairsMemo(n, memo)\n",
        "\n",
        "def climbStairsMemo(self, n:int, memo:list) -> int:\n",
        "    if n<0:\n",
        "        return 0\n",
        "    elif n==0:\n",
        "        return 1\n",
        "    if memo[n] == 0:\n",
        "        memo[n] = self.climbStairsMemo(n-1, memo) + self.climbStairsMemo(n-2, memo)\n",
        "    return memo[n]"
      ],
      "execution_count": null,
      "outputs": []
    },
    {
      "cell_type": "markdown",
      "metadata": {
        "id": "wVAgF0AL15Ew",
        "colab_type": "text"
      },
      "source": [
        "Dynamic Programming"
      ]
    },
    {
      "cell_type": "code",
      "metadata": {
        "id": "xAIYxWth0PQB",
        "colab_type": "code",
        "colab": {}
      },
      "source": [
        "def climbStairs(self, n: int) -> int:\n",
        "    if n<0:\n",
        "        return 0\n",
        "    elif n==0:\n",
        "        return 1\n",
        "    steps=[0]*(n+1)\n",
        "    steps[0]=1\n",
        "    steps[1]=1\n",
        "    for i in range(2, n+1):\n",
        "        steps[i]=steps[i-1]+steps[i-2]\n",
        "    return steps[n]"
      ],
      "execution_count": null,
      "outputs": []
    },
    {
      "cell_type": "code",
      "metadata": {
        "id": "CmD6J7jS1-c4",
        "colab_type": "code",
        "colab": {}
      },
      "source": [
        " def climbStairs(self, n: int) -> int:\n",
        "        if n<0:\n",
        "            return 0\n",
        "        elif n==0:\n",
        "            return 1\n",
        "        steps=[1, 1]\n",
        "        for i in range(2, n+1):\n",
        "            count=steps[1]+steps[0]\n",
        "            steps[1], steps[0] = count, steps[1]\n",
        "        return steps[1]"
      ],
      "execution_count": null,
      "outputs": []
    },
    {
      "cell_type": "markdown",
      "metadata": {
        "id": "zIlRFCutXcJU",
        "colab_type": "text"
      },
      "source": [
        "### Binary Search Algorithm:"
      ]
    },
    {
      "cell_type": "code",
      "metadata": {
        "id": "qKPnearlX4_6",
        "colab_type": "code",
        "colab": {}
      },
      "source": [
        "def BinarySearch(numbers, element):\n",
        "  mid_point = len(numbers)//2\n",
        "  print(numbers, mid_point)\n",
        "  if numbers[mid_point]==element:\n",
        "    return True\n",
        "  elif numbers[mid_point]>element:\n",
        "    return BinarySearch(numbers[:mid_point], element)\n",
        "  elif numbers[mid_point]<element:\n",
        "    return BinarySearch(numbers[mid_point+1:], element)\n",
        "  else:\n",
        "    return False"
      ],
      "execution_count": null,
      "outputs": []
    },
    {
      "cell_type": "code",
      "metadata": {
        "id": "yddfbIQdYvdd",
        "colab_type": "code",
        "colab": {
          "base_uri": "https://localhost:8080/",
          "height": 50
        },
        "outputId": "9bd98cc4-e4f3-4b6b-8dc6-9be62f446387"
      },
      "source": [
        "BinarySearch([1, 2, 3, 4, 5, 6, 7, 8, 9], 5)"
      ],
      "execution_count": null,
      "outputs": [
        {
          "output_type": "stream",
          "text": [
            "[1, 2, 3, 4, 5, 6, 7, 8, 9] 4\n"
          ],
          "name": "stdout"
        },
        {
          "output_type": "execute_result",
          "data": {
            "text/plain": [
              "True"
            ]
          },
          "metadata": {
            "tags": []
          },
          "execution_count": 16
        }
      ]
    },
    {
      "cell_type": "markdown",
      "metadata": {
        "id": "Mu9XQ9qDbb3r",
        "colab_type": "text"
      },
      "source": [
        "### Merge Sort:"
      ]
    },
    {
      "cell_type": "code",
      "metadata": {
        "id": "EBQEIVumY41K",
        "colab_type": "code",
        "colab": {}
      },
      "source": [
        "def divide(arr):\n",
        "  print(arr)\n",
        "  if len(arr)<2:\n",
        "    return arr\n",
        "  else:\n",
        "    mid_point = len(arr)//2\n",
        "    left = arr[:mid_point]\n",
        "    right = arr[mid_point:]\n",
        "    left_arr = divide(left)\n",
        "    right_arr = divide(right)\n",
        "  return merge(left_arr, right_arr)\n",
        "\n",
        "def merge(left_arr, right_arr):\n",
        "  sorted_arr = []\n",
        "  while(len(left_arr)>0 and len(right_arr)>0):\n",
        "    if left_arr[0]>right_arr[0]:\n",
        "      left_arr = left_arr[-1:] + left_arr[1:-1]  \n",
        "      sorted_arr.append(left_arr[0])\n",
        "    else:\n",
        "      right_arr = left_arr[-1:] + left_arr[1:-1]  \n",
        "      sorted_arr.append(right_arr[0])\n",
        "  return sorted_arr+left_arr+right_arr"
      ],
      "execution_count": null,
      "outputs": []
    },
    {
      "cell_type": "code",
      "metadata": {
        "id": "qKZwEpHZevCG",
        "colab_type": "code",
        "colab": {
          "base_uri": "https://localhost:8080/",
          "height": 387
        },
        "outputId": "7d8091c2-539b-4745-ea61-e545e89fe778"
      },
      "source": [
        "divide([1,6,3,2,8,5,9,2])"
      ],
      "execution_count": null,
      "outputs": [
        {
          "output_type": "stream",
          "text": [
            "[1, 6, 3, 2, 8, 5, 9, 2]\n",
            "[1, 6, 3, 2]\n",
            "[1, 6]\n",
            "[1]\n",
            "[6]\n"
          ],
          "name": "stdout"
        },
        {
          "output_type": "error",
          "ename": "KeyboardInterrupt",
          "evalue": "ignored",
          "traceback": [
            "\u001b[0;31m---------------------------------------------------------------------------\u001b[0m",
            "\u001b[0;31mKeyboardInterrupt\u001b[0m                         Traceback (most recent call last)",
            "\u001b[0;32m<ipython-input-30-79c5998c8687>\u001b[0m in \u001b[0;36m<module>\u001b[0;34m()\u001b[0m\n\u001b[0;32m----> 1\u001b[0;31m \u001b[0mdivide\u001b[0m\u001b[0;34m(\u001b[0m\u001b[0;34m[\u001b[0m\u001b[0;36m1\u001b[0m\u001b[0;34m,\u001b[0m\u001b[0;36m6\u001b[0m\u001b[0;34m,\u001b[0m\u001b[0;36m3\u001b[0m\u001b[0;34m,\u001b[0m\u001b[0;36m2\u001b[0m\u001b[0;34m,\u001b[0m\u001b[0;36m8\u001b[0m\u001b[0;34m,\u001b[0m\u001b[0;36m5\u001b[0m\u001b[0;34m,\u001b[0m\u001b[0;36m9\u001b[0m\u001b[0;34m,\u001b[0m\u001b[0;36m2\u001b[0m\u001b[0;34m]\u001b[0m\u001b[0;34m)\u001b[0m\u001b[0;34m\u001b[0m\u001b[0;34m\u001b[0m\u001b[0m\n\u001b[0m",
            "\u001b[0;32m<ipython-input-29-ea00f3cfa742>\u001b[0m in \u001b[0;36mdivide\u001b[0;34m(arr)\u001b[0m\n\u001b[1;32m      7\u001b[0m     \u001b[0mleft\u001b[0m \u001b[0;34m=\u001b[0m \u001b[0marr\u001b[0m\u001b[0;34m[\u001b[0m\u001b[0;34m:\u001b[0m\u001b[0mmid_point\u001b[0m\u001b[0;34m]\u001b[0m\u001b[0;34m\u001b[0m\u001b[0;34m\u001b[0m\u001b[0m\n\u001b[1;32m      8\u001b[0m     \u001b[0mright\u001b[0m \u001b[0;34m=\u001b[0m \u001b[0marr\u001b[0m\u001b[0;34m[\u001b[0m\u001b[0mmid_point\u001b[0m\u001b[0;34m:\u001b[0m\u001b[0;34m]\u001b[0m\u001b[0;34m\u001b[0m\u001b[0;34m\u001b[0m\u001b[0m\n\u001b[0;32m----> 9\u001b[0;31m     \u001b[0mleft_arr\u001b[0m \u001b[0;34m=\u001b[0m \u001b[0mdivide\u001b[0m\u001b[0;34m(\u001b[0m\u001b[0mleft\u001b[0m\u001b[0;34m)\u001b[0m\u001b[0;34m\u001b[0m\u001b[0;34m\u001b[0m\u001b[0m\n\u001b[0m\u001b[1;32m     10\u001b[0m     \u001b[0mright_arr\u001b[0m \u001b[0;34m=\u001b[0m \u001b[0mdivide\u001b[0m\u001b[0;34m(\u001b[0m\u001b[0mright\u001b[0m\u001b[0;34m)\u001b[0m\u001b[0;34m\u001b[0m\u001b[0;34m\u001b[0m\u001b[0m\n\u001b[1;32m     11\u001b[0m   \u001b[0;32mreturn\u001b[0m \u001b[0mmerge\u001b[0m\u001b[0;34m(\u001b[0m\u001b[0mleft_arr\u001b[0m\u001b[0;34m,\u001b[0m \u001b[0mright_arr\u001b[0m\u001b[0;34m)\u001b[0m\u001b[0;34m\u001b[0m\u001b[0;34m\u001b[0m\u001b[0m\n",
            "\u001b[0;32m<ipython-input-29-ea00f3cfa742>\u001b[0m in \u001b[0;36mdivide\u001b[0;34m(arr)\u001b[0m\n\u001b[1;32m      7\u001b[0m     \u001b[0mleft\u001b[0m \u001b[0;34m=\u001b[0m \u001b[0marr\u001b[0m\u001b[0;34m[\u001b[0m\u001b[0;34m:\u001b[0m\u001b[0mmid_point\u001b[0m\u001b[0;34m]\u001b[0m\u001b[0;34m\u001b[0m\u001b[0;34m\u001b[0m\u001b[0m\n\u001b[1;32m      8\u001b[0m     \u001b[0mright\u001b[0m \u001b[0;34m=\u001b[0m \u001b[0marr\u001b[0m\u001b[0;34m[\u001b[0m\u001b[0mmid_point\u001b[0m\u001b[0;34m:\u001b[0m\u001b[0;34m]\u001b[0m\u001b[0;34m\u001b[0m\u001b[0;34m\u001b[0m\u001b[0m\n\u001b[0;32m----> 9\u001b[0;31m     \u001b[0mleft_arr\u001b[0m \u001b[0;34m=\u001b[0m \u001b[0mdivide\u001b[0m\u001b[0;34m(\u001b[0m\u001b[0mleft\u001b[0m\u001b[0;34m)\u001b[0m\u001b[0;34m\u001b[0m\u001b[0;34m\u001b[0m\u001b[0m\n\u001b[0m\u001b[1;32m     10\u001b[0m     \u001b[0mright_arr\u001b[0m \u001b[0;34m=\u001b[0m \u001b[0mdivide\u001b[0m\u001b[0;34m(\u001b[0m\u001b[0mright\u001b[0m\u001b[0;34m)\u001b[0m\u001b[0;34m\u001b[0m\u001b[0;34m\u001b[0m\u001b[0m\n\u001b[1;32m     11\u001b[0m   \u001b[0;32mreturn\u001b[0m \u001b[0mmerge\u001b[0m\u001b[0;34m(\u001b[0m\u001b[0mleft_arr\u001b[0m\u001b[0;34m,\u001b[0m \u001b[0mright_arr\u001b[0m\u001b[0;34m)\u001b[0m\u001b[0;34m\u001b[0m\u001b[0;34m\u001b[0m\u001b[0m\n",
            "\u001b[0;32m<ipython-input-29-ea00f3cfa742>\u001b[0m in \u001b[0;36mdivide\u001b[0;34m(arr)\u001b[0m\n\u001b[1;32m      9\u001b[0m     \u001b[0mleft_arr\u001b[0m \u001b[0;34m=\u001b[0m \u001b[0mdivide\u001b[0m\u001b[0;34m(\u001b[0m\u001b[0mleft\u001b[0m\u001b[0;34m)\u001b[0m\u001b[0;34m\u001b[0m\u001b[0;34m\u001b[0m\u001b[0m\n\u001b[1;32m     10\u001b[0m     \u001b[0mright_arr\u001b[0m \u001b[0;34m=\u001b[0m \u001b[0mdivide\u001b[0m\u001b[0;34m(\u001b[0m\u001b[0mright\u001b[0m\u001b[0;34m)\u001b[0m\u001b[0;34m\u001b[0m\u001b[0;34m\u001b[0m\u001b[0m\n\u001b[0;32m---> 11\u001b[0;31m   \u001b[0;32mreturn\u001b[0m \u001b[0mmerge\u001b[0m\u001b[0;34m(\u001b[0m\u001b[0mleft_arr\u001b[0m\u001b[0;34m,\u001b[0m \u001b[0mright_arr\u001b[0m\u001b[0;34m)\u001b[0m\u001b[0;34m\u001b[0m\u001b[0;34m\u001b[0m\u001b[0m\n\u001b[0m\u001b[1;32m     12\u001b[0m \u001b[0;34m\u001b[0m\u001b[0m\n\u001b[1;32m     13\u001b[0m \u001b[0;32mdef\u001b[0m \u001b[0mmerge\u001b[0m\u001b[0;34m(\u001b[0m\u001b[0mleft_arr\u001b[0m\u001b[0;34m,\u001b[0m \u001b[0mright_arr\u001b[0m\u001b[0;34m)\u001b[0m\u001b[0;34m:\u001b[0m\u001b[0;34m\u001b[0m\u001b[0;34m\u001b[0m\u001b[0m\n",
            "\u001b[0;32m<ipython-input-29-ea00f3cfa742>\u001b[0m in \u001b[0;36mmerge\u001b[0;34m(left_arr, right_arr)\u001b[0m\n\u001b[1;32m     18\u001b[0m       \u001b[0msorted_arr\u001b[0m\u001b[0;34m.\u001b[0m\u001b[0mappend\u001b[0m\u001b[0;34m(\u001b[0m\u001b[0mleft_arr\u001b[0m\u001b[0;34m[\u001b[0m\u001b[0;36m0\u001b[0m\u001b[0;34m]\u001b[0m\u001b[0;34m)\u001b[0m\u001b[0;34m\u001b[0m\u001b[0;34m\u001b[0m\u001b[0m\n\u001b[1;32m     19\u001b[0m     \u001b[0;32melse\u001b[0m\u001b[0;34m:\u001b[0m\u001b[0;34m\u001b[0m\u001b[0;34m\u001b[0m\u001b[0m\n\u001b[0;32m---> 20\u001b[0;31m       \u001b[0mright_arr\u001b[0m \u001b[0;34m=\u001b[0m \u001b[0mleft_arr\u001b[0m\u001b[0;34m[\u001b[0m\u001b[0;34m-\u001b[0m\u001b[0;36m1\u001b[0m\u001b[0;34m:\u001b[0m\u001b[0;34m]\u001b[0m \u001b[0;34m+\u001b[0m \u001b[0mleft_arr\u001b[0m\u001b[0;34m[\u001b[0m\u001b[0;36m1\u001b[0m\u001b[0;34m:\u001b[0m\u001b[0;34m-\u001b[0m\u001b[0;36m1\u001b[0m\u001b[0;34m]\u001b[0m\u001b[0;34m\u001b[0m\u001b[0;34m\u001b[0m\u001b[0m\n\u001b[0m\u001b[1;32m     21\u001b[0m       \u001b[0msorted_arr\u001b[0m\u001b[0;34m.\u001b[0m\u001b[0mappend\u001b[0m\u001b[0;34m(\u001b[0m\u001b[0mright_arr\u001b[0m\u001b[0;34m[\u001b[0m\u001b[0;36m0\u001b[0m\u001b[0;34m]\u001b[0m\u001b[0;34m)\u001b[0m\u001b[0;34m\u001b[0m\u001b[0;34m\u001b[0m\u001b[0m\n\u001b[1;32m     22\u001b[0m   \u001b[0;32mreturn\u001b[0m \u001b[0msorted_arr\u001b[0m\u001b[0;34m+\u001b[0m\u001b[0mleft_arr\u001b[0m\u001b[0;34m+\u001b[0m\u001b[0mright_arr\u001b[0m\u001b[0;34m\u001b[0m\u001b[0;34m\u001b[0m\u001b[0m\n",
            "\u001b[0;31mKeyboardInterrupt\u001b[0m: "
          ]
        }
      ]
    },
    {
      "cell_type": "markdown",
      "metadata": {
        "id": "BRgCtBmPjYHF",
        "colab_type": "text"
      },
      "source": [
        "## Time Mesurement\n",
        "\n",
        "1. timeit"
      ]
    },
    {
      "cell_type": "code",
      "metadata": {
        "id": "1gzy_nybQWvZ",
        "colab_type": "code",
        "colab": {
          "base_uri": "https://localhost:8080/",
          "height": 229
        },
        "outputId": "d9a245b7-3d51-4f6d-cc80-21e44279d98d"
      },
      "source": [
        "@calculatetime\n",
        "def isEvenA(number:int)->bool:\n",
        "  return (number & 0B1)==0\n",
        "@calculatetime\n",
        "def isEvenB(number:int)->bool:\n",
        "  return (number % 2)==0\n",
        "@calculatetime\n",
        "def isEvenC(number:int)->bool:\n",
        "  return (number & 1)"
      ],
      "execution_count": null,
      "outputs": [
        {
          "output_type": "error",
          "ename": "NameError",
          "evalue": "ignored",
          "traceback": [
            "\u001b[0;31m---------------------------------------------------------------------------\u001b[0m",
            "\u001b[0;31mNameError\u001b[0m                                 Traceback (most recent call last)",
            "\u001b[0;32m<ipython-input-16-797ee999467a>\u001b[0m in \u001b[0;36m<module>\u001b[0;34m()\u001b[0m\n\u001b[0;32m----> 1\u001b[0;31m \u001b[0;34m@\u001b[0m\u001b[0mcalculatetime\u001b[0m\u001b[0;34m\u001b[0m\u001b[0;34m\u001b[0m\u001b[0m\n\u001b[0m\u001b[1;32m      2\u001b[0m \u001b[0;32mdef\u001b[0m \u001b[0misEvenA\u001b[0m\u001b[0;34m(\u001b[0m\u001b[0mnumber\u001b[0m\u001b[0;34m:\u001b[0m\u001b[0mint\u001b[0m\u001b[0;34m)\u001b[0m\u001b[0;34m->\u001b[0m\u001b[0mbool\u001b[0m\u001b[0;34m:\u001b[0m\u001b[0;34m\u001b[0m\u001b[0;34m\u001b[0m\u001b[0m\n\u001b[1;32m      3\u001b[0m   \u001b[0;32mreturn\u001b[0m \u001b[0;34m(\u001b[0m\u001b[0mnumber\u001b[0m \u001b[0;34m&\u001b[0m \u001b[0;36m0B1\u001b[0m\u001b[0;34m)\u001b[0m\u001b[0;34m==\u001b[0m\u001b[0;36m0\u001b[0m\u001b[0;34m\u001b[0m\u001b[0;34m\u001b[0m\u001b[0m\n\u001b[1;32m      4\u001b[0m \u001b[0;34m@\u001b[0m\u001b[0mcalculatetime\u001b[0m\u001b[0;34m\u001b[0m\u001b[0;34m\u001b[0m\u001b[0m\n\u001b[1;32m      5\u001b[0m \u001b[0;32mdef\u001b[0m \u001b[0misEvenB\u001b[0m\u001b[0;34m(\u001b[0m\u001b[0mnumber\u001b[0m\u001b[0;34m:\u001b[0m\u001b[0mint\u001b[0m\u001b[0;34m)\u001b[0m\u001b[0;34m->\u001b[0m\u001b[0mbool\u001b[0m\u001b[0;34m:\u001b[0m\u001b[0;34m\u001b[0m\u001b[0;34m\u001b[0m\u001b[0m\n",
            "\u001b[0;31mNameError\u001b[0m: name 'calculatetime' is not defined"
          ]
        }
      ]
    },
    {
      "cell_type": "code",
      "metadata": {
        "id": "sddGLIYiez0F",
        "colab_type": "code",
        "colab": {
          "base_uri": "https://localhost:8080/",
          "height": 34
        },
        "outputId": "3e12ec88-a4a7-4896-875b-b2892fb81cca"
      },
      "source": [
        "%%timeit\n",
        "sum([isEvenA(i) for i in range(1000)])"
      ],
      "execution_count": null,
      "outputs": [
        {
          "output_type": "stream",
          "text": [
            "10000 loops, best of 3: 148 µs per loop\n"
          ],
          "name": "stdout"
        }
      ]
    },
    {
      "cell_type": "code",
      "metadata": {
        "id": "04OGm9x2RRlz",
        "colab_type": "code",
        "colab": {
          "base_uri": "https://localhost:8080/",
          "height": 34
        },
        "outputId": "286f5465-a36d-4ebb-a311-d6f135b32af8"
      },
      "source": [
        "%%timeit\n",
        "sum([isEvenB(i) for i in range(1000)])"
      ],
      "execution_count": null,
      "outputs": [
        {
          "output_type": "stream",
          "text": [
            "10000 loops, best of 3: 136 µs per loop\n"
          ],
          "name": "stdout"
        }
      ]
    },
    {
      "cell_type": "code",
      "metadata": {
        "id": "pP9Sv2XeRLDJ",
        "colab_type": "code",
        "colab": {
          "base_uri": "https://localhost:8080/",
          "height": 34
        },
        "outputId": "67bf099e-0052-40e1-84fd-17f0ccf9cffa"
      },
      "source": [
        "%%timeit\n",
        "sum([isEvenC(i) for i in range(1000)])"
      ],
      "execution_count": null,
      "outputs": [
        {
          "output_type": "stream",
          "text": [
            "10000 loops, best of 3: 124 µs per loop\n"
          ],
          "name": "stdout"
        }
      ]
    },
    {
      "cell_type": "code",
      "metadata": {
        "id": "oOrIfWPCj1dR",
        "colab_type": "code",
        "colab": {
          "base_uri": "https://localhost:8080/",
          "height": 34
        },
        "outputId": "649e7ffe-c2ce-4f50-9509-0676a111a512"
      },
      "source": [
        "import time\n",
        "start = time.clock()\n",
        "sum([isEvenA(i) for i in range(1000)])\n",
        "end = time.clock()\n",
        "total = end - start\n",
        "print(total)"
      ],
      "execution_count": null,
      "outputs": [
        {
          "output_type": "stream",
          "text": [
            "0.00021899999999774877\n"
          ],
          "name": "stdout"
        }
      ]
    },
    {
      "cell_type": "code",
      "metadata": {
        "id": "7Wb03xsXjR4H",
        "colab_type": "code",
        "colab": {
          "base_uri": "https://localhost:8080/",
          "height": 34
        },
        "outputId": "00735718-844e-486d-992f-888b8a32e748"
      },
      "source": [
        "start = time.clock()\n",
        "sum([isEvenB(i) for i in range(1000)])\n",
        "end = time.clock()\n",
        "total = end - start\n",
        "print(total)"
      ],
      "execution_count": null,
      "outputs": [
        {
          "output_type": "stream",
          "text": [
            "0.000354999999998995\n"
          ],
          "name": "stdout"
        }
      ]
    },
    {
      "cell_type": "code",
      "metadata": {
        "id": "T5_ZsKCKjV84",
        "colab_type": "code",
        "colab": {
          "base_uri": "https://localhost:8080/",
          "height": 34
        },
        "outputId": "4d2c85d7-42ab-4460-c271-af3c3d0298b0"
      },
      "source": [
        "start = time.clock()\n",
        "sum([isEvenC(i) for i in range(1000)])\n",
        "end = time.clock()\n",
        "total = end - start\n",
        "print(total)"
      ],
      "execution_count": null,
      "outputs": [
        {
          "output_type": "stream",
          "text": [
            "0.00038400000000038403\n"
          ],
          "name": "stdout"
        }
      ]
    },
    {
      "cell_type": "code",
      "metadata": {
        "id": "PYWvUwDxjcrY",
        "colab_type": "code",
        "colab": {}
      },
      "source": [
        ""
      ],
      "execution_count": null,
      "outputs": []
    }
  ]
}