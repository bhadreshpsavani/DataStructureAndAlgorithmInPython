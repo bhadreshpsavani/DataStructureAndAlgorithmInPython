{
  "nbformat": 4,
  "nbformat_minor": 0,
  "metadata": {
    "colab": {
      "name": "Python Algorithms.ipynb",
      "provenance": [],
      "authorship_tag": "ABX9TyP/GPT0wnjZzwWUSaECpEwj",
      "include_colab_link": true
    },
    "kernelspec": {
      "name": "python3",
      "display_name": "Python 3"
    }
  },
  "cells": [
    {
      "cell_type": "markdown",
      "metadata": {
        "id": "view-in-github",
        "colab_type": "text"
      },
      "source": [
        "<a href=\"https://colab.research.google.com/github/bhadreshpsavani/Python-Notes/blob/master/Python_Algorithms.ipynb\" target=\"_parent\"><img src=\"https://colab.research.google.com/assets/colab-badge.svg\" alt=\"Open In Colab\"/></a>"
      ]
    },
    {
      "cell_type": "markdown",
      "metadata": {
        "id": "aEBFwm4Zx6If",
        "colab_type": "text"
      },
      "source": [
        "## Greedy Search:\n",
        "\n",
        "We will write a function for coin selection problem"
      ]
    },
    {
      "cell_type": "code",
      "metadata": {
        "id": "_nGRlmllx2Er",
        "colab_type": "code",
        "colab": {}
      },
      "source": [
        "def coin_change(amount, coins):\n",
        "  coin_chosen = 0\n",
        "  if amount in coins:\n",
        "    return amount\n",
        "  for coin in coins:\n",
        "    if coin<amount:\n",
        "      coin_chosen=coin\n",
        "    else:\n",
        "      break\n",
        "  remaining_amount=amount-coin_chosen\n",
        "  return str(coin_chosen)+\" \"+str(coin_change(remaining_amount, coins))"
      ],
      "execution_count": null,
      "outputs": []
    },
    {
      "cell_type": "code",
      "metadata": {
        "id": "v-HQeWoGzNYp",
        "colab_type": "code",
        "colab": {
          "base_uri": "https://localhost:8080/",
          "height": 35
        },
        "outputId": "65260c75-66ae-4ecb-c897-fabe92461739"
      },
      "source": [
        "coin_change(8, [1, 3, 6])"
      ],
      "execution_count": null,
      "outputs": [
        {
          "output_type": "execute_result",
          "data": {
            "application/vnd.google.colaboratory.intrinsic+json": {
              "type": "string"
            },
            "text/plain": [
              "'6 1 1'"
            ]
          },
          "metadata": {
            "tags": []
          },
          "execution_count": 9
        }
      ]
    },
    {
      "cell_type": "markdown",
      "metadata": {
        "id": "QhiA0eMiz_yP",
        "colab_type": "text"
      },
      "source": [
        " Travelling salesman problem??"
      ]
    },
    {
      "cell_type": "markdown",
      "metadata": {
        "id": "ayVsvjRs0IQh",
        "colab_type": "text"
      },
      "source": [
        "## Staircase Problem:\n",
        "Memo Approach:"
      ]
    },
    {
      "cell_type": "code",
      "metadata": {
        "id": "ORl4RUkgzT8e",
        "colab_type": "code",
        "colab": {}
      },
      "source": [
        "def climbStairs(self, n: int) -> int:\n",
        "    memo =[0]*(n+1)\n",
        "    return self.climbStairsMemo(n, memo)\n",
        "\n",
        "def climbStairsMemo(self, n:int, memo:list) -> int:\n",
        "    if n<0:\n",
        "        return 0\n",
        "    elif n==0:\n",
        "        return 1\n",
        "    if memo[n] == 0:\n",
        "        memo[n] = self.climbStairsMemo(n-1, memo) + self.climbStairsMemo(n-2, memo)\n",
        "    return memo[n]"
      ],
      "execution_count": 2,
      "outputs": []
    },
    {
      "cell_type": "markdown",
      "metadata": {
        "id": "wVAgF0AL15Ew",
        "colab_type": "text"
      },
      "source": [
        "Dynamic Programming"
      ]
    },
    {
      "cell_type": "code",
      "metadata": {
        "id": "xAIYxWth0PQB",
        "colab_type": "code",
        "colab": {}
      },
      "source": [
        "def climbStairs(self, n: int) -> int:\n",
        "    if n<0:\n",
        "        return 0\n",
        "    elif n==0:\n",
        "        return 1\n",
        "    steps=[0]*(n+1)\n",
        "    steps[0]=1\n",
        "    steps[1]=1\n",
        "    for i in range(2, n+1):\n",
        "        steps[i]=steps[i-1]+steps[i-2]\n",
        "    return steps[n]"
      ],
      "execution_count": 3,
      "outputs": []
    },
    {
      "cell_type": "code",
      "metadata": {
        "id": "CmD6J7jS1-c4",
        "colab_type": "code",
        "colab": {}
      },
      "source": [
        " def climbStairs(self, n: int) -> int:\n",
        "        if n<0:\n",
        "            return 0\n",
        "        elif n==0:\n",
        "            return 1\n",
        "        steps=[1, 1]\n",
        "        for i in range(2, n+1):\n",
        "            count=steps[1]+steps[0]\n",
        "            steps[1], steps[0] = count, steps[1]\n",
        "        return steps[1]"
      ],
      "execution_count": null,
      "outputs": []
    }
  ]
}