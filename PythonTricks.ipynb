{
  "nbformat": 4,
  "nbformat_minor": 0,
  "metadata": {
    "colab": {
      "name": "PythonTricks.ipynb",
      "provenance": [],
      "authorship_tag": "ABX9TyPPnKcAsXKuOVunlUjVg5D6",
      "include_colab_link": true
    },
    "kernelspec": {
      "name": "python3",
      "display_name": "Python 3"
    }
  },
  "cells": [
    {
      "cell_type": "markdown",
      "metadata": {
        "id": "view-in-github",
        "colab_type": "text"
      },
      "source": [
        "<a href=\"https://colab.research.google.com/github/bhadreshpsavani/Python-Notes/blob/master/PythonTricks.ipynb\" target=\"_parent\"><img src=\"https://colab.research.google.com/assets/colab-badge.svg\" alt=\"Open In Colab\"/></a>"
      ]
    },
    {
      "cell_type": "code",
      "metadata": {
        "id": "m8eGX56RU5Ev",
        "colab_type": "code",
        "colab": {}
      },
      "source": [
        "import time\n",
        "import itertools"
      ],
      "execution_count": null,
      "outputs": []
    },
    {
      "cell_type": "markdown",
      "metadata": {
        "id": "xJeU_0n-UQFy",
        "colab_type": "text"
      },
      "source": [
        "### Backward(Reversed List):"
      ]
    },
    {
      "cell_type": "code",
      "metadata": {
        "id": "b9Kfm-3wULxE",
        "colab_type": "code",
        "colab": {}
      },
      "source": [
        "colors = ['red', 'green', 'blue', 'yellow']\n",
        "names = ['bhadresh', 'axita', 'rohit']"
      ],
      "execution_count": null,
      "outputs": []
    },
    {
      "cell_type": "code",
      "metadata": {
        "id": "DO0hAN9RUex2",
        "colab_type": "code",
        "colab": {
          "base_uri": "https://localhost:8080/",
          "height": 101
        },
        "outputId": "f82ba3f3-1f46-4d87-964b-7f01947009f8"
      },
      "source": [
        "start_time = time.time()\n",
        "for i in range(len(colors)-1, -1, -1):\n",
        "  print(colors[i])\n",
        "total_time = time.time()-start_time\n",
        "print(total_time)"
      ],
      "execution_count": null,
      "outputs": [
        {
          "output_type": "stream",
          "text": [
            "yellow\n",
            "blue\n",
            "green\n",
            "red\n",
            "0.0003674030303955078\n"
          ],
          "name": "stdout"
        }
      ]
    },
    {
      "cell_type": "code",
      "metadata": {
        "id": "Qu1glHlWUpmC",
        "colab_type": "code",
        "colab": {
          "base_uri": "https://localhost:8080/",
          "height": 101
        },
        "outputId": "575057ed-ee1d-41c0-98a8-d76e18695796"
      },
      "source": [
        "#better way\n",
        "start_time = time.time()\n",
        "for color in reversed(colors):\n",
        "  print(color)\n",
        "total_time = time.time()-start_time\n",
        "print(total_time)"
      ],
      "execution_count": null,
      "outputs": [
        {
          "output_type": "stream",
          "text": [
            "yellow\n",
            "blue\n",
            "green\n",
            "red\n",
            "0.00042629241943359375\n"
          ],
          "name": "stdout"
        }
      ]
    },
    {
      "cell_type": "code",
      "metadata": {
        "id": "j-ZOjZipVEud",
        "colab_type": "code",
        "colab": {
          "base_uri": "https://localhost:8080/",
          "height": 67
        },
        "outputId": "0b5b1a77-17a2-41d9-f7ad-3781d9b92baa"
      },
      "source": [
        "for name, color in zip(names, colors):\n",
        "  print(name,color)"
      ],
      "execution_count": null,
      "outputs": [
        {
          "output_type": "stream",
          "text": [
            "bhadresh red\n",
            "axita green\n",
            "rohit blue\n"
          ],
          "name": "stdout"
        }
      ]
    },
    {
      "cell_type": "code",
      "metadata": {
        "id": "bdPSziCvX83z",
        "colab_type": "code",
        "colab": {
          "base_uri": "https://localhost:8080/",
          "height": 101
        },
        "outputId": "d56e8558-388d-4748-ace0-79cbb8a35b23"
      },
      "source": [
        "#better way\n",
        "start_time = time.time()\n",
        "for color in sorted(colors):\n",
        "  print(color)\n",
        "total_time = time.time()-start_time\n",
        "print(total_time)"
      ],
      "execution_count": null,
      "outputs": [
        {
          "output_type": "stream",
          "text": [
            "blue\n",
            "green\n",
            "red\n",
            "yellow\n",
            "0.0036420822143554688\n"
          ],
          "name": "stdout"
        }
      ]
    },
    {
      "cell_type": "code",
      "metadata": {
        "id": "971J8LDSZamq",
        "colab_type": "code",
        "colab": {
          "base_uri": "https://localhost:8080/",
          "height": 101
        },
        "outputId": "d471858f-4b30-4fab-aa50-464b137a9ddb"
      },
      "source": [
        "#better way\n",
        "start_time = time.time()\n",
        "for color in sorted(colors, reverse=True):\n",
        "  print(color)\n",
        "total_time = time.time()-start_time\n",
        "print(total_time)"
      ],
      "execution_count": null,
      "outputs": [
        {
          "output_type": "stream",
          "text": [
            "yellow\n",
            "red\n",
            "green\n",
            "blue\n",
            "0.000934600830078125\n"
          ],
          "name": "stdout"
        }
      ]
    },
    {
      "cell_type": "code",
      "metadata": {
        "id": "IzZpFpXRZvGQ",
        "colab_type": "code",
        "colab": {
          "base_uri": "https://localhost:8080/",
          "height": 195
        },
        "outputId": "66e39ebf-78aa-4a48-b067-d91c6bf3c802"
      },
      "source": [
        "def compare_length(c1, c2):\n",
        "  if len(c1)>len(c2):\n",
        "    return -1\n",
        "  if len(c1)<len(c2):\n",
        "    return 1\n",
        "  return 0\n",
        "\n",
        "print(sorted(colors, cmp=compare_length))"
      ],
      "execution_count": null,
      "outputs": [
        {
          "output_type": "error",
          "ename": "TypeError",
          "evalue": "ignored",
          "traceback": [
            "\u001b[0;31m---------------------------------------------------------------------------\u001b[0m",
            "\u001b[0;31mTypeError\u001b[0m                                 Traceback (most recent call last)",
            "\u001b[0;32m<ipython-input-24-dac995bcee19>\u001b[0m in \u001b[0;36m<module>\u001b[0;34m()\u001b[0m\n\u001b[1;32m      6\u001b[0m   \u001b[0;32mreturn\u001b[0m \u001b[0;36m0\u001b[0m\u001b[0;34m\u001b[0m\u001b[0;34m\u001b[0m\u001b[0m\n\u001b[1;32m      7\u001b[0m \u001b[0;34m\u001b[0m\u001b[0m\n\u001b[0;32m----> 8\u001b[0;31m \u001b[0mprint\u001b[0m\u001b[0;34m(\u001b[0m\u001b[0msorted\u001b[0m\u001b[0;34m(\u001b[0m\u001b[0mcolors\u001b[0m\u001b[0;34m,\u001b[0m \u001b[0mcmp\u001b[0m\u001b[0;34m=\u001b[0m\u001b[0mcompare_length\u001b[0m\u001b[0;34m)\u001b[0m\u001b[0;34m)\u001b[0m\u001b[0;34m\u001b[0m\u001b[0;34m\u001b[0m\u001b[0m\n\u001b[0m",
            "\u001b[0;31mTypeError\u001b[0m: 'cmp' is an invalid keyword argument for this function"
          ]
        }
      ]
    },
    {
      "cell_type": "code",
      "metadata": {
        "id": "275AqxUQdFow",
        "colab_type": "code",
        "colab": {
          "base_uri": "https://localhost:8080/",
          "height": 34
        },
        "outputId": "71297853-7452-4adc-d5bd-3ba4b7d44014"
      },
      "source": [
        "# because python3 don't have comparision functions\n",
        "print(sorted(colors, key=len))"
      ],
      "execution_count": null,
      "outputs": [
        {
          "output_type": "stream",
          "text": [
            "['red', 'blue', 'green', 'yellow']\n"
          ],
          "name": "stdout"
        }
      ]
    },
    {
      "cell_type": "code",
      "metadata": {
        "id": "nUh9s2WxfEO-",
        "colab_type": "code",
        "colab": {}
      },
      "source": [
        "def search(items, target):\n",
        "  for i, val in enumerate(items):\n",
        "    if val==target:\n",
        "      break\n",
        "  else:\n",
        "    return -1\n",
        "  return i"
      ],
      "execution_count": null,
      "outputs": []
    },
    {
      "cell_type": "code",
      "metadata": {
        "id": "dkINprFTfYXz",
        "colab_type": "code",
        "colab": {
          "base_uri": "https://localhost:8080/",
          "height": 34
        },
        "outputId": "a21ca327-2d39-4003-936c-c0ed71acb1b3"
      },
      "source": [
        "search(colors, 'redio')"
      ],
      "execution_count": null,
      "outputs": [
        {
          "output_type": "execute_result",
          "data": {
            "text/plain": [
              "-1"
            ]
          },
          "metadata": {
            "tags": []
          },
          "execution_count": 29
        }
      ]
    },
    {
      "cell_type": "markdown",
      "metadata": {
        "id": "QrS-aJUcf0Xz",
        "colab_type": "text"
      },
      "source": [
        "## Dictionary"
      ]
    },
    {
      "cell_type": "code",
      "metadata": {
        "id": "I6x6I3AHf3Bc",
        "colab_type": "code",
        "colab": {}
      },
      "source": [
        "our_dict = {'bhadresh':'black', 'axita':\"Red\", \"Rohit\":\"Green\"}"
      ],
      "execution_count": null,
      "outputs": []
    },
    {
      "cell_type": "code",
      "metadata": {
        "id": "NJp8MDsNgFXU",
        "colab_type": "code",
        "colab": {
          "base_uri": "https://localhost:8080/",
          "height": 67
        },
        "outputId": "ce6006dd-15c1-4c6e-e5d9-98ed75cb86e9"
      },
      "source": [
        "for item in our_dict:\n",
        "  print(item)"
      ],
      "execution_count": null,
      "outputs": [
        {
          "output_type": "stream",
          "text": [
            "bhadresh\n",
            "axita\n",
            "Rohit\n"
          ],
          "name": "stdout"
        }
      ]
    },
    {
      "cell_type": "code",
      "metadata": {
        "id": "3opTWzlcguts",
        "colab_type": "code",
        "colab": {
          "base_uri": "https://localhost:8080/",
          "height": 195
        },
        "outputId": "b615f653-0615-4054-f6cd-079a218f1e0b"
      },
      "source": [
        "for item in our_dict:\n",
        "  if item.startswith('a'):\n",
        "    del our_dict[item]"
      ],
      "execution_count": null,
      "outputs": [
        {
          "output_type": "error",
          "ename": "RuntimeError",
          "evalue": "ignored",
          "traceback": [
            "\u001b[0;31m---------------------------------------------------------------------------\u001b[0m",
            "\u001b[0;31mRuntimeError\u001b[0m                              Traceback (most recent call last)",
            "\u001b[0;32m<ipython-input-33-0af8bec4d697>\u001b[0m in \u001b[0;36m<module>\u001b[0;34m()\u001b[0m\n\u001b[0;32m----> 1\u001b[0;31m \u001b[0;32mfor\u001b[0m \u001b[0mitem\u001b[0m \u001b[0;32min\u001b[0m \u001b[0mour_dict\u001b[0m\u001b[0;34m:\u001b[0m\u001b[0;34m\u001b[0m\u001b[0;34m\u001b[0m\u001b[0m\n\u001b[0m\u001b[1;32m      2\u001b[0m   \u001b[0;32mif\u001b[0m \u001b[0mitem\u001b[0m\u001b[0;34m.\u001b[0m\u001b[0mstartswith\u001b[0m\u001b[0;34m(\u001b[0m\u001b[0;34m'a'\u001b[0m\u001b[0;34m)\u001b[0m\u001b[0;34m:\u001b[0m\u001b[0;34m\u001b[0m\u001b[0;34m\u001b[0m\u001b[0m\n\u001b[1;32m      3\u001b[0m     \u001b[0;32mdel\u001b[0m \u001b[0mour_dict\u001b[0m\u001b[0;34m[\u001b[0m\u001b[0mitem\u001b[0m\u001b[0;34m]\u001b[0m\u001b[0;34m\u001b[0m\u001b[0;34m\u001b[0m\u001b[0m\n",
            "\u001b[0;31mRuntimeError\u001b[0m: dictionary changed size during iteration"
          ]
        }
      ]
    },
    {
      "cell_type": "code",
      "metadata": {
        "id": "uYOPrc5Sg_Ul",
        "colab_type": "code",
        "colab": {
          "base_uri": "https://localhost:8080/",
          "height": 34
        },
        "outputId": "19aa22e9-abd9-4093-a5d2-5b92448d0b30"
      },
      "source": [
        "for item in our_dict.keys():\n",
        "  if item.startswith('a'):\n",
        "    del our_dict[item]\n",
        "our_dict"
      ],
      "execution_count": null,
      "outputs": [
        {
          "output_type": "execute_result",
          "data": {
            "text/plain": [
              "{'Rohit': 'Green', 'bhadresh': 'black'}"
            ]
          },
          "metadata": {
            "tags": []
          },
          "execution_count": 34
        }
      ]
    },
    {
      "cell_type": "code",
      "metadata": {
        "id": "-OauY7xWgodJ",
        "colab_type": "code",
        "colab": {
          "base_uri": "https://localhost:8080/",
          "height": 50
        },
        "outputId": "37ff50c8-030d-4e5b-8dbe-69cfdb6fb8c3"
      },
      "source": [
        "for key, val in our_dict.items():\n",
        "  print(key, '-->', val)"
      ],
      "execution_count": null,
      "outputs": [
        {
          "output_type": "stream",
          "text": [
            "bhadresh --> black\n",
            "Rohit --> Green\n"
          ],
          "name": "stdout"
        }
      ]
    },
    {
      "cell_type": "code",
      "metadata": {
        "id": "ODoItk2VhmxX",
        "colab_type": "code",
        "colab": {
          "base_uri": "https://localhost:8080/",
          "height": 34
        },
        "outputId": "aa52da44-c504-4bec-8a43-849d21dfe715"
      },
      "source": [
        "colors = ['red', 'green', 'blue', 'yellow']\n",
        "names = ['bhadresh', 'axita', 'rohit']\n",
        "\n",
        "zip_dict=dict(zip(names, colors))\n",
        "zip_dict"
      ],
      "execution_count": null,
      "outputs": [
        {
          "output_type": "execute_result",
          "data": {
            "text/plain": [
              "{'axita': 'green', 'bhadresh': 'red', 'rohit': 'blue'}"
            ]
          },
          "metadata": {
            "tags": []
          },
          "execution_count": 38
        }
      ]
    },
    {
      "cell_type": "markdown",
      "metadata": {
        "id": "uyzMzjWSifSQ",
        "colab_type": "text"
      },
      "source": [
        "## Default Dict:"
      ]
    },
    {
      "cell_type": "code",
      "metadata": {
        "id": "gRxbEvH6iieH",
        "colab_type": "code",
        "colab": {
          "base_uri": "https://localhost:8080/",
          "height": 34
        },
        "outputId": "76054779-0f1c-464e-f2ee-48e85e31c336"
      },
      "source": [
        "colors = ['red', 'green', 'blue', 'yellow', 'red', 'green', 'blue', 'blue']\n",
        "d={}\n",
        "for color in colors:\n",
        "  if color not in d:\n",
        "    d[color]=0\n",
        "  d[color]+=1\n",
        "d"
      ],
      "execution_count": null,
      "outputs": [
        {
          "output_type": "execute_result",
          "data": {
            "text/plain": [
              "{'blue': 3, 'green': 2, 'red': 2, 'yellow': 1}"
            ]
          },
          "metadata": {
            "tags": []
          },
          "execution_count": 40
        }
      ]
    },
    {
      "cell_type": "code",
      "metadata": {
        "id": "TordcY9Ti0ml",
        "colab_type": "code",
        "colab": {
          "base_uri": "https://localhost:8080/",
          "height": 34
        },
        "outputId": "5a5196fe-6714-415e-ff83-9f98c8d6dc2b"
      },
      "source": [
        "d={}\n",
        "for color in colors:\n",
        "  d[color] = d.get(color, 0) + 1\n",
        "d"
      ],
      "execution_count": null,
      "outputs": [
        {
          "output_type": "execute_result",
          "data": {
            "text/plain": [
              "{'blue': 3, 'green': 2, 'red': 2, 'yellow': 1}"
            ]
          },
          "metadata": {
            "tags": []
          },
          "execution_count": 41
        }
      ]
    },
    {
      "cell_type": "code",
      "metadata": {
        "id": "KUqeyI4VjCml",
        "colab_type": "code",
        "colab": {
          "base_uri": "https://localhost:8080/",
          "height": 34
        },
        "outputId": "9ddddf0c-4fec-483c-d6bb-068456134a09"
      },
      "source": [
        "from collections import defaultdict\n",
        "d = defaultdict(int)\n",
        "for color in colors:\n",
        "  d[color]+=1\n",
        "d"
      ],
      "execution_count": null,
      "outputs": [
        {
          "output_type": "execute_result",
          "data": {
            "text/plain": [
              "defaultdict(int, {'blue': 3, 'green': 2, 'red': 2, 'yellow': 1})"
            ]
          },
          "metadata": {
            "tags": []
          },
          "execution_count": 44
        }
      ]
    },
    {
      "cell_type": "code",
      "metadata": {
        "id": "HZadHD6Jjlv4",
        "colab_type": "code",
        "colab": {
          "base_uri": "https://localhost:8080/",
          "height": 34
        },
        "outputId": "21fac4f5-437c-452d-a45e-8ae7b88e40a0"
      },
      "source": [
        "from collections import Counter\n",
        "d = Counter(colors)\n",
        "d"
      ],
      "execution_count": null,
      "outputs": [
        {
          "output_type": "execute_result",
          "data": {
            "text/plain": [
              "Counter({'blue': 3, 'green': 2, 'red': 2, 'yellow': 1})"
            ]
          },
          "metadata": {
            "tags": []
          },
          "execution_count": 46
        }
      ]
    },
    {
      "cell_type": "markdown",
      "metadata": {
        "id": "C11x38_mj4z-",
        "colab_type": "text"
      },
      "source": [
        "## Grouping with Dictionary"
      ]
    },
    {
      "cell_type": "code",
      "metadata": {
        "id": "WA1fjj8kj31Y",
        "colab_type": "code",
        "colab": {
          "base_uri": "https://localhost:8080/",
          "height": 84
        },
        "outputId": "f5fc8ffa-470c-48d7-ed5d-406dfcee2155"
      },
      "source": [
        "colors = ['red', 'green', 'blue', 'yellow', 'red', 'green', 'blue', 'blue']\n",
        "d={}\n",
        "for color in colors:\n",
        "  key = len(color)\n",
        "  if key not in  d:\n",
        "    d[key]= []\n",
        "  d[key].append(color)\n",
        "d"
      ],
      "execution_count": null,
      "outputs": [
        {
          "output_type": "execute_result",
          "data": {
            "text/plain": [
              "{3: ['red', 'red'],\n",
              " 4: ['blue', 'blue', 'blue'],\n",
              " 5: ['green', 'green'],\n",
              " 6: ['yellow']}"
            ]
          },
          "metadata": {
            "tags": []
          },
          "execution_count": 48
        }
      ]
    },
    {
      "cell_type": "code",
      "metadata": {
        "id": "NBhoN7EQkjBu",
        "colab_type": "code",
        "colab": {
          "base_uri": "https://localhost:8080/",
          "height": 84
        },
        "outputId": "f1ab8a76-1183-4f69-b502-cfd8b286802d"
      },
      "source": [
        "d={}\n",
        "for color in colors:\n",
        "  key = len(color)\n",
        "  d.setdefault(key, []).append(color)\n",
        "d"
      ],
      "execution_count": null,
      "outputs": [
        {
          "output_type": "execute_result",
          "data": {
            "text/plain": [
              "{3: ['red', 'red'],\n",
              " 4: ['blue', 'blue', 'blue'],\n",
              " 5: ['green', 'green'],\n",
              " 6: ['yellow']}"
            ]
          },
          "metadata": {
            "tags": []
          },
          "execution_count": 49
        }
      ]
    },
    {
      "cell_type": "code",
      "metadata": {
        "id": "UAddmwsXk5Oe",
        "colab_type": "code",
        "colab": {
          "base_uri": "https://localhost:8080/",
          "height": 101
        },
        "outputId": "249d1ac5-ba33-4d98-aed2-66225790265a"
      },
      "source": [
        "d=defaultdict(list)\n",
        "for color in colors:\n",
        "  key = len(color)\n",
        "  d[key].append(color)\n",
        "d"
      ],
      "execution_count": null,
      "outputs": [
        {
          "output_type": "execute_result",
          "data": {
            "text/plain": [
              "defaultdict(list,\n",
              "            {3: ['red', 'red'],\n",
              "             4: ['blue', 'blue', 'blue'],\n",
              "             5: ['green', 'green'],\n",
              "             6: ['yellow']})"
            ]
          },
          "metadata": {
            "tags": []
          },
          "execution_count": 53
        }
      ]
    },
    {
      "cell_type": "markdown",
      "metadata": {
        "id": "97MrN4BNntUI",
        "colab_type": "text"
      },
      "source": [
        "## Fibonacci"
      ]
    },
    {
      "cell_type": "code",
      "metadata": {
        "id": "3_Fg0fNnnsvR",
        "colab_type": "code",
        "colab": {
          "base_uri": "https://localhost:8080/",
          "height": 101
        },
        "outputId": "2f02cffb-ab9d-44d2-c382-7b7a64a6b3bb"
      },
      "source": [
        "def fibonacci(n):\n",
        "  x = 0\n",
        "  y = 1\n",
        "  for i in range(n):\n",
        "    print(x)\n",
        "    t = x\n",
        "    x = y+x\n",
        "    y = t\n",
        "fibonacci(5)"
      ],
      "execution_count": null,
      "outputs": [
        {
          "output_type": "stream",
          "text": [
            "0\n",
            "1\n",
            "1\n",
            "2\n",
            "3\n"
          ],
          "name": "stdout"
        }
      ]
    },
    {
      "cell_type": "code",
      "metadata": {
        "id": "wMna8u9foR8e",
        "colab_type": "code",
        "colab": {
          "base_uri": "https://localhost:8080/",
          "height": 101
        },
        "outputId": "b612b2ec-a322-445c-9033-95ac75675cba"
      },
      "source": [
        "def fibonacci(n):\n",
        "  x = 0\n",
        "  y = 1\n",
        "  for i in range(n):\n",
        "    print(x)\n",
        "    x, y = y, x+y\n",
        "fibonacci(5)"
      ],
      "execution_count": null,
      "outputs": [
        {
          "output_type": "stream",
          "text": [
            "0\n",
            "1\n",
            "1\n",
            "2\n",
            "3\n"
          ],
          "name": "stdout"
        }
      ]
    },
    {
      "cell_type": "markdown",
      "metadata": {
        "id": "rkLIHHAJpjtQ",
        "colab_type": "text"
      },
      "source": [
        "## Deque"
      ]
    },
    {
      "cell_type": "code",
      "metadata": {
        "id": "Eius94F7pmMv",
        "colab_type": "code",
        "colab": {}
      },
      "source": [
        "colors = ['red', 'green', 'blue', 'yellow', 'red', 'green', 'blue', 'blue']"
      ],
      "execution_count": null,
      "outputs": []
    },
    {
      "cell_type": "code",
      "metadata": {
        "id": "_Df4jWClpsQv",
        "colab_type": "code",
        "colab": {
          "base_uri": "https://localhost:8080/",
          "height": 34
        },
        "outputId": "ad14bc8f-ef16-48a3-eec1-80fa56b4d541"
      },
      "source": [
        "del colors[0]\n",
        "colors"
      ],
      "execution_count": null,
      "outputs": [
        {
          "output_type": "execute_result",
          "data": {
            "text/plain": [
              "['green', 'blue', 'yellow', 'red', 'green', 'blue', 'blue']"
            ]
          },
          "metadata": {
            "tags": []
          },
          "execution_count": 63
        }
      ]
    },
    {
      "cell_type": "code",
      "metadata": {
        "id": "5PPvvDa5py5r",
        "colab_type": "code",
        "colab": {
          "base_uri": "https://localhost:8080/",
          "height": 34
        },
        "outputId": "77588310-e8af-4d25-c379-01467a1cd0c8"
      },
      "source": [
        "color = colors.pop(0)\n",
        "color, colors"
      ],
      "execution_count": null,
      "outputs": [
        {
          "output_type": "execute_result",
          "data": {
            "text/plain": [
              "('yellow', ['red', 'green', 'blue', 'blue'])"
            ]
          },
          "metadata": {
            "tags": []
          },
          "execution_count": 66
        }
      ]
    },
    {
      "cell_type": "code",
      "metadata": {
        "id": "dLJE38_pqC1Y",
        "colab_type": "code",
        "colab": {
          "base_uri": "https://localhost:8080/",
          "height": 34
        },
        "outputId": "9556d7aa-a549-4a65-9938-f558cea1240e"
      },
      "source": [
        "colors.insert(0, 'Black')\n",
        "colors"
      ],
      "execution_count": null,
      "outputs": [
        {
          "output_type": "execute_result",
          "data": {
            "text/plain": [
              "['Black', 'Black', 'red', 'green', 'blue', 'blue']"
            ]
          },
          "metadata": {
            "tags": []
          },
          "execution_count": 68
        }
      ]
    },
    {
      "cell_type": "markdown",
      "metadata": {
        "id": "eG8BO2WFqK8L",
        "colab_type": "text"
      },
      "source": [
        "Efficient way"
      ]
    },
    {
      "cell_type": "code",
      "metadata": {
        "id": "gSNBcoNNqNiW",
        "colab_type": "code",
        "colab": {}
      },
      "source": [
        "from collections import deque\n",
        "colors = deque(['red', 'green', 'blue', 'yellow', 'red', 'green', 'blue', 'blue'])"
      ],
      "execution_count": null,
      "outputs": []
    },
    {
      "cell_type": "code",
      "metadata": {
        "id": "X0qsxAvdqhpf",
        "colab_type": "code",
        "colab": {
          "base_uri": "https://localhost:8080/",
          "height": 34
        },
        "outputId": "6ea9b87a-f084-4b4f-e1a7-efc208cc5e43"
      },
      "source": [
        "del colors[0]\n",
        "colors"
      ],
      "execution_count": null,
      "outputs": [
        {
          "output_type": "execute_result",
          "data": {
            "text/plain": [
              "deque(['green', 'blue', 'yellow', 'red', 'green', 'blue', 'blue'])"
            ]
          },
          "metadata": {
            "tags": []
          },
          "execution_count": 71
        }
      ]
    },
    {
      "cell_type": "code",
      "metadata": {
        "id": "4yvCVZ4jqloW",
        "colab_type": "code",
        "colab": {
          "base_uri": "https://localhost:8080/",
          "height": 34
        },
        "outputId": "ec5dc67c-986f-4916-e9df-e037b7b8bd32"
      },
      "source": [
        "color = colors.popleft()\n",
        "color, colors"
      ],
      "execution_count": null,
      "outputs": [
        {
          "output_type": "execute_result",
          "data": {
            "text/plain": [
              "('green', deque(['blue', 'yellow', 'red', 'green', 'blue', 'blue']))"
            ]
          },
          "metadata": {
            "tags": []
          },
          "execution_count": 75
        }
      ]
    },
    {
      "cell_type": "code",
      "metadata": {
        "id": "2HxVKyspqwUj",
        "colab_type": "code",
        "colab": {
          "base_uri": "https://localhost:8080/",
          "height": 34
        },
        "outputId": "473c80a5-24fe-4945-a252-5ed2238b9704"
      },
      "source": [
        "colors.appendleft('green')\n",
        "colors"
      ],
      "execution_count": null,
      "outputs": [
        {
          "output_type": "execute_result",
          "data": {
            "text/plain": [
              "deque(['green', 'blue', 'yellow', 'red', 'green', 'blue', 'blue'])"
            ]
          },
          "metadata": {
            "tags": []
          },
          "execution_count": 76
        }
      ]
    },
    {
      "cell_type": "code",
      "metadata": {
        "id": "ZsVCkQ3TtAQV",
        "colab_type": "code",
        "colab": {
          "base_uri": "https://localhost:8080/",
          "height": 34
        },
        "outputId": "18515917-18cd-4022-8f66-f5399717ed18"
      },
      "source": [
        "print(sum([i**2 for i in range(5)]))"
      ],
      "execution_count": null,
      "outputs": [
        {
          "output_type": "stream",
          "text": [
            "30\n"
          ],
          "name": "stdout"
        }
      ]
    },
    {
      "cell_type": "code",
      "metadata": {
        "id": "TjMKC170tHv1",
        "colab_type": "code",
        "colab": {
          "base_uri": "https://localhost:8080/",
          "height": 34
        },
        "outputId": "e6a6f435-dad0-4d29-82e1-2149650547d3"
      },
      "source": [
        "print(sum(i**2 for i in range(5)))"
      ],
      "execution_count": null,
      "outputs": [
        {
          "output_type": "stream",
          "text": [
            "30\n"
          ],
          "name": "stdout"
        }
      ]
    },
    {
      "cell_type": "markdown",
      "metadata": {
        "id": "YzTIr1cOYz6b",
        "colab_type": "text"
      },
      "source": [
        "## Notes:\n",
        "python3 python2\n",
        "* zip     izip\n",
        "* range   irange\n",
        "* items()   iteritems()\n",
        "\n",
        "**A `collections.ChainMap` groups multiple dicts or other mappings together to create a single**\n",
        "\n",
        "Use namedtuple instead of normal tuple for readability\n",
        "\n",
        "![image.png](\n",
        "  \n",
        "  \n",
        ")"
      ]
    },
    {
      "cell_type": "code",
      "metadata": {
        "id": "x5OH4e2pZDXP",
        "colab_type": "code",
        "colab": {}
      },
      "source": [
        ""
      ],
      "execution_count": null,
      "outputs": []
    }
  ]
}