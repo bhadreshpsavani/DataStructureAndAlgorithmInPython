{
  "nbformat": 4,
  "nbformat_minor": 0,
  "metadata": {
    "colab": {
      "name": "UdacityDataStructureAndAlgorithm.ipynb",
      "provenance": [],
      "authorship_tag": "ABX9TyNWyqMRvVcCVxxnJXtr7pyU",
      "include_colab_link": true
    },
    "kernelspec": {
      "name": "python3",
      "display_name": "Python 3"
    }
  },
  "cells": [
    {
      "cell_type": "markdown",
      "metadata": {
        "id": "view-in-github",
        "colab_type": "text"
      },
      "source": [
        "<a href=\"https://colab.research.google.com/github/bhadreshpsavani/Python-Notes/blob/master/UdacityDataStructureAndAlgorithm.ipynb\" target=\"_parent\"><img src=\"https://colab.research.google.com/assets/colab-badge.svg\" alt=\"Open In Colab\"/></a>"
      ]
    },
    {
      "cell_type": "markdown",
      "metadata": {
        "id": "6h6g7iSNTAKP",
        "colab_type": "text"
      },
      "source": [
        "## LinkedList"
      ]
    },
    {
      "cell_type": "code",
      "metadata": {
        "id": "bGbygnL4S_ab",
        "colab_type": "code",
        "colab": {}
      },
      "source": [
        "\"\"\"The LinkedList code from before is provided below.\n",
        "Add three functions to the LinkedList.\n",
        "\"get_position\" returns the element at a certain position.\n",
        "The \"insert\" function will add an element to a particular\n",
        "spot in the list.\n",
        "\"delete\" will delete the first element with that\n",
        "particular value.\n",
        "Then, use \"Test Run\" and \"Submit\" to run the test cases\n",
        "at the bottom.\"\"\"\n",
        "\n",
        "class Element(object):\n",
        "    def __init__(self, value):\n",
        "        self.value = value\n",
        "        self.next = None\n",
        "        \n",
        "class LinkedList(object):\n",
        "    def __init__(self, head=None):\n",
        "        self.head = head\n",
        "        \n",
        "    def append(self, new_element):\n",
        "        current = self.head\n",
        "        if self.head:\n",
        "            while current.next:\n",
        "                current = current.next\n",
        "            current.next = new_element\n",
        "        else:\n",
        "            self.head = new_element\n",
        "            \n",
        "    def get_position(self, position):\n",
        "        \"\"\"Get an element from a particular position.\n",
        "        Assume the first position is \"1\".\n",
        "        Return \"None\" if position is not in the list.\"\"\"\n",
        "        current = self.head\n",
        "        counter = 1\n",
        "        if position<1:\n",
        "            return None\n",
        "        while current and counter<=position:\n",
        "            if counter==position:\n",
        "                return current\n",
        "            current = current.next\n",
        "            counter+=1\n",
        "        return None\n",
        "    \n",
        "    def insert(self, new_element, position):\n",
        "        \"\"\"Insert a new node at the given position.\n",
        "        Assume the first position is \"1\".\n",
        "        Inserting at position 3 means between\n",
        "        the 2nd and 3rd elements.\"\"\"\n",
        "        current = self.head\n",
        "        if position>1:\n",
        "            counter=1\n",
        "            while current and counter<position:\n",
        "                if counter==position-1:\n",
        "                    new_element.next, current.next = current.next, new_element\n",
        "                current = current.next\n",
        "                counter+=1\n",
        "        else:\n",
        "            new_element.next, current.next = current.next, new_element\n",
        "    \n",
        "    \n",
        "    def delete(self, value):\n",
        "        \"\"\"Delete the first node with a given value.\"\"\"\n",
        "        current = self.head\n",
        "        previous = None\n",
        "        if self.head:\n",
        "            while current.value!=value and current:\n",
        "                previous = current\n",
        "                current = current.next\n",
        "            if current.value==value:\n",
        "                if previous:\n",
        "                    previous.next = current.next\n",
        "                else:\n",
        "                    self.head=current.next\n",
        "            \n",
        "\n"
      ],
      "execution_count": 16,
      "outputs": []
    },
    {
      "cell_type": "code",
      "metadata": {
        "id": "7Nb5hAg7TXDo",
        "colab_type": "code",
        "colab": {
          "base_uri": "https://localhost:8080/",
          "height": 50
        },
        "outputId": "74a67271-c9ef-4538-c346-9940695c4c4e"
      },
      "source": [
        "# Test cases\n",
        "# Set up some Elements\n",
        "e1 = Element(1)\n",
        "e2 = Element(2)\n",
        "e3 = Element(3)\n",
        "e4 = Element(4)\n",
        "\n",
        "# Start setting up a LinkedList\n",
        "ll = LinkedList(e1)\n",
        "ll.append(e2)\n",
        "ll.append(e3)\n",
        "\n",
        "# Test get_position\n",
        "# Should print 3\n",
        "print(ll.head.next.next.value)\n",
        "# Should also print 3\n",
        "print(ll.get_position(3).value)"
      ],
      "execution_count": 19,
      "outputs": [
        {
          "output_type": "stream",
          "text": [
            "3\n",
            "3\n"
          ],
          "name": "stdout"
        }
      ]
    },
    {
      "cell_type": "code",
      "metadata": {
        "id": "uP3BCvBRVGVd",
        "colab_type": "code",
        "colab": {
          "base_uri": "https://localhost:8080/",
          "height": 84
        },
        "outputId": "5ebbadfa-ed20-4adb-852c-5d717113096b"
      },
      "source": [
        "# Test insert\n",
        "ll.insert(e4,3)\n",
        "# Should print 4 now\n",
        "print(ll.get_position(3).value)\n",
        "\n",
        "# Test delete\n",
        "ll.delete(1)\n",
        "# Should print 2 now\n",
        "print(ll.get_position(1).value)\n",
        "# Should print 4 now\n",
        "print(ll.get_position(2).value)\n",
        "# Should print 3 now\n",
        "print(ll.get_position(3).value)"
      ],
      "execution_count": 20,
      "outputs": [
        {
          "output_type": "stream",
          "text": [
            "4\n",
            "2\n",
            "4\n",
            "3\n"
          ],
          "name": "stdout"
        }
      ]
    },
    {
      "cell_type": "markdown",
      "metadata": {
        "id": "JOIWOEE-nM7H",
        "colab_type": "text"
      },
      "source": [
        "## Stack:"
      ]
    },
    {
      "cell_type": "code",
      "metadata": {
        "id": "xuKwoyMljx48",
        "colab_type": "code",
        "colab": {}
      },
      "source": [
        "\"\"\"Add a couple methods to our LinkedList class,\n",
        "and use that to implement a Stack.\n",
        "You have 4 functions below to fill in:\n",
        "insert_first, delete_first, push, and pop.\n",
        "Think about this while you're implementing:\n",
        "why is it easier to add an \"insert_first\"\n",
        "function than just use \"append\"?\"\"\"\n",
        "\n",
        "class Element(object):\n",
        "    def __init__(self, value):\n",
        "        self.value = value\n",
        "        self.next = None\n",
        "        \n",
        "class LinkedList(object):\n",
        "    def __init__(self, head=None):\n",
        "        self.head = head\n",
        "        \n",
        "    def append(self, new_element):\n",
        "        current = self.head\n",
        "        if self.head:\n",
        "            while current.next:\n",
        "                current = current.next\n",
        "            current.next = new_element\n",
        "        else:\n",
        "            self.head = new_element\n",
        "\n",
        "    def insert_first(self, new_element):\n",
        "        \"Insert new element as the head of the LinkedList\"\n",
        "        new_element.next, self.head = self.head, new_element\n",
        "        \n",
        "    def delete_first(self):\n",
        "        \"Delete the first (head) element in the LinkedList as return it\"\n",
        "        current = self.head\n",
        "        if current is None:\n",
        "            return None\n",
        "        self.head = current.next\n",
        "        return current\n",
        "\n",
        "class Stack(object):\n",
        "    def __init__(self,top=None):\n",
        "        self.ll = LinkedList(top)\n",
        "\n",
        "    def push(self, new_element):\n",
        "        \"Push (add) a new element onto the top of the stack\"\n",
        "        self.ll.insert_first(new_element)\n",
        "\n",
        "    def pop(self):\n",
        "        \"Pop (remove) the first element off the top of the stack and return it\"\n",
        "        return self.ll.delete_first()"
      ],
      "execution_count": 21,
      "outputs": []
    },
    {
      "cell_type": "code",
      "metadata": {
        "id": "dFvBQz35nTb9",
        "colab_type": "code",
        "colab": {}
      },
      "source": [
        "# Test cases\n",
        "# Set up some Elements\n",
        "e1 = Element(1)\n",
        "e2 = Element(2)\n",
        "e3 = Element(3)\n",
        "e4 = Element(4)\n",
        "\n",
        "# Start setting up a Stack\n",
        "stack = Stack(e1)"
      ],
      "execution_count": 22,
      "outputs": []
    },
    {
      "cell_type": "code",
      "metadata": {
        "id": "9RDHe84pnVWG",
        "colab_type": "code",
        "colab": {
          "base_uri": "https://localhost:8080/",
          "height": 101
        },
        "outputId": "e9d87196-4237-4cee-c755-fe05dddf9ccd"
      },
      "source": [
        "# Test stack functionality\n",
        "stack.push(e2)\n",
        "stack.push(e3)\n",
        "print(stack.pop().value)\n",
        "print(stack.pop().value)\n",
        "print(stack.pop().value)\n",
        "print(stack.pop())\n",
        "stack.push(e4)\n",
        "print(stack.pop().value)"
      ],
      "execution_count": 24,
      "outputs": [
        {
          "output_type": "stream",
          "text": [
            "3\n",
            "2\n",
            "1\n",
            "None\n",
            "4\n"
          ],
          "name": "stdout"
        }
      ]
    },
    {
      "cell_type": "code",
      "metadata": {
        "id": "Zd8qe0x7nWJG",
        "colab_type": "code",
        "colab": {}
      },
      "source": [
        ""
      ],
      "execution_count": null,
      "outputs": []
    }
  ]
}