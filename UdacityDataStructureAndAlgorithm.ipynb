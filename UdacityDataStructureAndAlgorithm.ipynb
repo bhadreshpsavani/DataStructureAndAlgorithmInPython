{
  "nbformat": 4,
  "nbformat_minor": 0,
  "metadata": {
    "colab": {
      "name": "UdacityDataStructureAndAlgorithm.ipynb",
      "provenance": [],
      "authorship_tag": "ABX9TyMhUinh0XrrJNNd+S0mIW36",
      "include_colab_link": true
    },
    "kernelspec": {
      "name": "python3",
      "display_name": "Python 3"
    }
  },
  "cells": [
    {
      "cell_type": "markdown",
      "metadata": {
        "id": "view-in-github",
        "colab_type": "text"
      },
      "source": [
        "<a href=\"https://colab.research.google.com/github/bhadreshpsavani/DataStructureAndAlgorithmInPython/blob/master/UdacityDataStructureAndAlgorithm.ipynb\" target=\"_parent\"><img src=\"https://colab.research.google.com/assets/colab-badge.svg\" alt=\"Open In Colab\"/></a>"
      ]
    },
    {
      "cell_type": "markdown",
      "metadata": {
        "id": "6h6g7iSNTAKP",
        "colab_type": "text"
      },
      "source": [
        "## LinkedList"
      ]
    },
    {
      "cell_type": "code",
      "metadata": {
        "id": "bGbygnL4S_ab",
        "colab_type": "code",
        "colab": {}
      },
      "source": [
        "\"\"\"The LinkedList code from before is provided below.\n",
        "Add three functions to the LinkedList.\n",
        "\"get_position\" returns the element at a certain position.\n",
        "The \"insert\" function will add an element to a particular\n",
        "spot in the list.\n",
        "\"delete\" will delete the first element with that\n",
        "particular value.\n",
        "Then, use \"Test Run\" and \"Submit\" to run the test cases\n",
        "at the bottom.\"\"\"\n",
        "\n",
        "class Element(object):\n",
        "    def __init__(self, value):\n",
        "        self.value = value\n",
        "        self.next = None\n",
        "        \n",
        "class LinkedList(object):\n",
        "    def __init__(self, head=None):\n",
        "        self.head = head\n",
        "        \n",
        "    def append(self, new_element):\n",
        "        current = self.head\n",
        "        if self.head:\n",
        "            while current.next:\n",
        "                current = current.next\n",
        "            current.next = new_element\n",
        "        else:\n",
        "            self.head = new_element\n",
        "            \n",
        "    def get_position(self, position):\n",
        "        \"\"\"Get an element from a particular position.\n",
        "        Assume the first position is \"1\".\n",
        "        Return \"None\" if position is not in the list.\"\"\"\n",
        "        current = self.head\n",
        "        counter = 1\n",
        "        if position<1:\n",
        "            return None\n",
        "        while current and counter<=position:\n",
        "            if counter==position:\n",
        "                return current\n",
        "            current = current.next\n",
        "            counter+=1\n",
        "        return None\n",
        "    \n",
        "    def insert(self, new_element, position):\n",
        "        \"\"\"Insert a new node at the given position.\n",
        "        Assume the first position is \"1\".\n",
        "        Inserting at position 3 means between\n",
        "        the 2nd and 3rd elements.\"\"\"\n",
        "        current = self.head\n",
        "        if position>1:\n",
        "            counter=1\n",
        "            while current and counter<position:\n",
        "                if counter==position-1:\n",
        "                    new_element.next, current.next = current.next, new_element\n",
        "                current = current.next\n",
        "                counter+=1\n",
        "        else:\n",
        "            new_element.next, current.next = current.next, new_element\n",
        "    \n",
        "    \n",
        "    def delete(self, value):\n",
        "        \"\"\"Delete the first node with a given value.\"\"\"\n",
        "        current = self.head\n",
        "        previous = None\n",
        "        if self.head:\n",
        "            while current.value!=value and current:\n",
        "                previous = current\n",
        "                current = current.next\n",
        "            if current.value==value:\n",
        "                if previous:\n",
        "                    previous.next = current.next\n",
        "                else:\n",
        "                    self.head=current.next\n",
        "            \n",
        "\n"
      ],
      "execution_count": null,
      "outputs": []
    },
    {
      "cell_type": "code",
      "metadata": {
        "id": "7Nb5hAg7TXDo",
        "colab_type": "code",
        "colab": {
          "base_uri": "https://localhost:8080/",
          "height": 50
        },
        "outputId": "74a67271-c9ef-4538-c346-9940695c4c4e"
      },
      "source": [
        "# Test cases\n",
        "# Set up some Elements\n",
        "e1 = Element(1)\n",
        "e2 = Element(2)\n",
        "e3 = Element(3)\n",
        "e4 = Element(4)\n",
        "\n",
        "# Start setting up a LinkedList\n",
        "ll = LinkedList(e1)\n",
        "ll.append(e2)\n",
        "ll.append(e3)\n",
        "\n",
        "# Test get_position\n",
        "# Should print 3\n",
        "print(ll.head.next.next.value)\n",
        "# Should also print 3\n",
        "print(ll.get_position(3).value)"
      ],
      "execution_count": null,
      "outputs": [
        {
          "output_type": "stream",
          "text": [
            "3\n",
            "3\n"
          ],
          "name": "stdout"
        }
      ]
    },
    {
      "cell_type": "code",
      "metadata": {
        "id": "uP3BCvBRVGVd",
        "colab_type": "code",
        "colab": {
          "base_uri": "https://localhost:8080/",
          "height": 84
        },
        "outputId": "5ebbadfa-ed20-4adb-852c-5d717113096b"
      },
      "source": [
        "# Test insert\n",
        "ll.insert(e4,3)\n",
        "# Should print 4 now\n",
        "print(ll.get_position(3).value)\n",
        "\n",
        "# Test delete\n",
        "ll.delete(1)\n",
        "# Should print 2 now\n",
        "print(ll.get_position(1).value)\n",
        "# Should print 4 now\n",
        "print(ll.get_position(2).value)\n",
        "# Should print 3 now\n",
        "print(ll.get_position(3).value)"
      ],
      "execution_count": null,
      "outputs": [
        {
          "output_type": "stream",
          "text": [
            "4\n",
            "2\n",
            "4\n",
            "3\n"
          ],
          "name": "stdout"
        }
      ]
    },
    {
      "cell_type": "markdown",
      "metadata": {
        "id": "JOIWOEE-nM7H",
        "colab_type": "text"
      },
      "source": [
        "## Stack:"
      ]
    },
    {
      "cell_type": "code",
      "metadata": {
        "id": "xuKwoyMljx48",
        "colab_type": "code",
        "colab": {}
      },
      "source": [
        "\"\"\"Add a couple methods to our LinkedList class,\n",
        "and use that to implement a Stack.\n",
        "You have 4 functions below to fill in:\n",
        "insert_first, delete_first, push, and pop.\n",
        "Think about this while you're implementing:\n",
        "why is it easier to add an \"insert_first\"\n",
        "function than just use \"append\"?\"\"\"\n",
        "\n",
        "class Element(object):\n",
        "    def __init__(self, value):\n",
        "        self.value = value\n",
        "        self.next = None\n",
        "        \n",
        "class LinkedList(object):\n",
        "    def __init__(self, head=None):\n",
        "        self.head = head\n",
        "        \n",
        "    def append(self, new_element):\n",
        "        current = self.head\n",
        "        if self.head:\n",
        "            while current.next:\n",
        "                current = current.next\n",
        "            current.next = new_element\n",
        "        else:\n",
        "            self.head = new_element\n",
        "\n",
        "    def insert_first(self, new_element):\n",
        "        \"Insert new element as the head of the LinkedList\"\n",
        "        new_element.next, self.head = self.head, new_element\n",
        "        \n",
        "    def delete_first(self):\n",
        "        \"Delete the first (head) element in the LinkedList as return it\"\n",
        "        current = self.head\n",
        "        if current is None:\n",
        "            return None\n",
        "        self.head = current.next\n",
        "        return current\n",
        "\n",
        "class Stack(object):\n",
        "    def __init__(self,top=None):\n",
        "        self.ll = LinkedList(top)\n",
        "\n",
        "    def push(self, new_element):\n",
        "        \"Push (add) a new element onto the top of the stack\"\n",
        "        self.ll.insert_first(new_element)\n",
        "\n",
        "    def pop(self):\n",
        "        \"Pop (remove) the first element off the top of the stack and return it\"\n",
        "        return self.ll.delete_first()"
      ],
      "execution_count": null,
      "outputs": []
    },
    {
      "cell_type": "code",
      "metadata": {
        "id": "dFvBQz35nTb9",
        "colab_type": "code",
        "colab": {}
      },
      "source": [
        "# Test cases\n",
        "# Set up some Elements\n",
        "e1 = Element(1)\n",
        "e2 = Element(2)\n",
        "e3 = Element(3)\n",
        "e4 = Element(4)\n",
        "\n",
        "# Start setting up a Stack\n",
        "stack = Stack(e1)"
      ],
      "execution_count": null,
      "outputs": []
    },
    {
      "cell_type": "code",
      "metadata": {
        "id": "9RDHe84pnVWG",
        "colab_type": "code",
        "colab": {
          "base_uri": "https://localhost:8080/",
          "height": 101
        },
        "outputId": "e9d87196-4237-4cee-c755-fe05dddf9ccd"
      },
      "source": [
        "# Test stack functionality\n",
        "stack.push(e2)\n",
        "stack.push(e3)\n",
        "print(stack.pop().value)\n",
        "print(stack.pop().value)\n",
        "print(stack.pop().value)\n",
        "print(stack.pop())\n",
        "stack.push(e4)\n",
        "print(stack.pop().value)"
      ],
      "execution_count": null,
      "outputs": [
        {
          "output_type": "stream",
          "text": [
            "3\n",
            "2\n",
            "1\n",
            "None\n",
            "4\n"
          ],
          "name": "stdout"
        }
      ]
    },
    {
      "cell_type": "markdown",
      "metadata": {
        "id": "OH9b1ZZmWUcw",
        "colab_type": "text"
      },
      "source": [
        "## Queue:"
      ]
    },
    {
      "cell_type": "code",
      "metadata": {
        "id": "Zd8qe0x7nWJG",
        "colab_type": "code",
        "colab": {}
      },
      "source": [
        "\"\"\"Make a Queue class using a list!\n",
        "Hint: You can use any Python list method\n",
        "you'd like! Try to write each one in as \n",
        "few lines as possible.\n",
        "Make sure you pass the test cases too!\"\"\"\n",
        "\n",
        "class Queue:\n",
        "    def __init__(self, head=None):\n",
        "        self.storage = [head]\n",
        "\n",
        "    def enqueue(self, new_element):\n",
        "        self.storage.append(new_element)\n",
        "\n",
        "    def peek(self):\n",
        "        return self.storage[0] \n",
        "\n",
        "    def dequeue(self): \n",
        "        return self.storage.pop(0)\n",
        "# Setup\n",
        "q = Queue(1)\n",
        "q.enqueue(2)\n",
        "q.enqueue(3)"
      ],
      "execution_count": null,
      "outputs": []
    },
    {
      "cell_type": "code",
      "metadata": {
        "id": "wmzmUbHvWYi-",
        "colab_type": "code",
        "colab": {
          "base_uri": "https://localhost:8080/",
          "height": 118
        },
        "outputId": "39c316bd-4efd-4fb6-d17a-5d4e0f7eff42"
      },
      "source": [
        "# Test peek\n",
        "# Should be 1\n",
        "print(q.peek())\n",
        "\n",
        "# Test dequeue\n",
        "# Should be 1\n",
        "print(q.dequeue())\n",
        "\n",
        "# Test enqueue\n",
        "q.enqueue(4)\n",
        "# Should be 2\n",
        "print(q.dequeue())\n",
        "# Should be 3\n",
        "print(q.dequeue())\n",
        "# Should be 4\n",
        "print(q.dequeue())\n",
        "q.enqueue(5)\n",
        "# Should be 5\n",
        "print(q.peek())"
      ],
      "execution_count": null,
      "outputs": [
        {
          "output_type": "stream",
          "text": [
            "1\n",
            "1\n",
            "2\n",
            "3\n",
            "4\n",
            "5\n"
          ],
          "name": "stdout"
        }
      ]
    },
    {
      "cell_type": "markdown",
      "metadata": {
        "id": "KNA5bxN86Nh6",
        "colab_type": "text"
      },
      "source": [
        "## Binary Tree:"
      ]
    },
    {
      "cell_type": "code",
      "metadata": {
        "id": "U1I2fP28WaC2",
        "colab_type": "code",
        "colab": {}
      },
      "source": [
        "class Node(object):\n",
        "    def __init__(self, value):\n",
        "        self.value = value\n",
        "        self.left = None\n",
        "        self.right = None\n",
        "\n",
        "class BinaryTree(object):\n",
        "    def __init__(self, root):\n",
        "        self.root = Node(root)\n",
        "\n",
        "    def search(self, find_val):\n",
        "        return self.preorder_search(tree.root, find_val)\n",
        "\n",
        "    def print_tree(self):\n",
        "        return self.preorder_print(tree.root, \"\")[:-1]\n",
        "\n",
        "    def preorder_search(self, start, find_val):\n",
        "        if start:\n",
        "            if start.value == find_val:\n",
        "                return True\n",
        "            else:\n",
        "                return self.preorder_search(start.left, find_val) or self.preorder_search(start.right, find_val)\n",
        "        return False\n",
        "\n",
        "    def preorder_print(self, start, traversal):\n",
        "        if start:\n",
        "            traversal += (str(start.value) + \"-\")\n",
        "            traversal = self.preorder_print(start.left, traversal)\n",
        "            traversal = self.preorder_print(start.right, traversal)\n",
        "        return traversal"
      ],
      "execution_count": null,
      "outputs": []
    },
    {
      "cell_type": "code",
      "metadata": {
        "id": "9XAcu2Sx6ZtQ",
        "colab_type": "code",
        "colab": {}
      },
      "source": [
        "# Set up tree\n",
        "tree = BinaryTree(1)\n",
        "tree.root.left = Node(2)\n",
        "tree.root.right = Node(3)\n",
        "tree.root.left.left = Node(4)\n",
        "tree.root.left.right = Node(5)\n",
        "\n",
        "# Test search\n",
        "# Should be True\n",
        "print(tree.search(4))\n",
        "# Should be False\n",
        "print(tree.search(6))\n",
        "\n",
        "# Test print_tree\n",
        "# Should be 1-2-4-5-3\n",
        "print(tree.print_tree())"
      ],
      "execution_count": null,
      "outputs": []
    },
    {
      "cell_type": "markdown",
      "metadata": {
        "id": "RI-t4ISf7lVG",
        "colab_type": "text"
      },
      "source": [
        "## BST(Binary Search Tree):"
      ]
    },
    {
      "cell_type": "code",
      "metadata": {
        "id": "qGDsO4iA7p2D",
        "colab_type": "code",
        "colab": {}
      },
      "source": [
        "class Node(object):\n",
        "    def __init__(self, value):\n",
        "        self.value = value\n",
        "        self.left = None\n",
        "        self.right = None\n",
        "\n",
        "class BST(object):\n",
        "    def __init__(self, root):\n",
        "        self.root = Node(root)\n",
        "\n",
        "    def insert(self, new_val):\n",
        "        node = self.root\n",
        "        self.helper_insert(new_val, node)\n",
        "        \n",
        "    def helper_insert(self, new_val, node):\n",
        "        if node.value<new_val:\n",
        "            if node.right:\n",
        "                self.helper_insert(new_val, node.right)\n",
        "            else:\n",
        "                node.right=Node(new_val)\n",
        "        else:\n",
        "            if node.left:\n",
        "                self.helper_insert(new_val, node.left)\n",
        "            else:\n",
        "                node.left=Node(new_val)\n",
        "        \n",
        "    def search(self, find_val):\n",
        "        return self.helper_search(self.root, find_val)\n",
        "        \n",
        "    def helper_search(self, node, find_val):\n",
        "        if node:\n",
        "            if node.value==find_val:\n",
        "                return True\n",
        "            elif node.value>find_val:\n",
        "                return self.helper_search(node.left, find_val)\n",
        "            else:\n",
        "                return self.helper_search(node.right, find_val)\n",
        "        return False"
      ],
      "execution_count": null,
      "outputs": []
    },
    {
      "cell_type": "code",
      "metadata": {
        "id": "o9k-L70UO6U_",
        "colab_type": "code",
        "colab": {}
      },
      "source": [
        "# Python program to demonstrate delete operation \n",
        "# in binary search tree \n",
        "\n",
        "# A Binary Tree Node \n",
        "class Node: \n",
        "\n",
        "\t# Constructor to create a new node \n",
        "\tdef __init__(self, key): \n",
        "\t\tself.key = key \n",
        "\t\tself.left = None\n",
        "\t\tself.right = None\n",
        "\n",
        "\n",
        "# A utility function to do inorder traversal of BST \n",
        "def inorder(root): \n",
        "\tif root is not None: \n",
        "\t\tinorder(root.left) \n",
        "\t\tprint root.key, \n",
        "\t\tinorder(root.right) \n",
        "\n",
        "\n",
        "# A utility function to insert a new node with given key in BST \n",
        "def insert( node, key): \n",
        "\n",
        "\t# If the tree is empty, return a new node \n",
        "\tif node is None: \n",
        "\t\treturn Node(key) \n",
        "\n",
        "\t# Otherwise recur down the tree \n",
        "\tif key < node.key: \n",
        "\t\tnode.left = insert(node.left, key) \n",
        "\telse: \n",
        "\t\tnode.right = insert(node.right, key) \n",
        "\n",
        "\t# return the (unchanged) node pointer \n",
        "\treturn node \n",
        "\n",
        "# Given a non-empty binary search tree, return the node \n",
        "# with minum key value found in that tree. Note that the \n",
        "# entire tree does not need to be searched \n",
        "def minValueNode( node): \n",
        "\tcurrent = node \n",
        "\n",
        "\t# loop down to find the leftmost leaf \n",
        "\twhile(current.left is not None): \n",
        "\t\tcurrent = current.left \n",
        "\n",
        "\treturn current \n",
        "\n",
        "# Given a binary search tree and a key, this function \n",
        "# delete the key and returns the new root \n",
        "def deleteNode(root, key): \n",
        "\n",
        "\t# Base Case \n",
        "\tif root is None: \n",
        "\t\treturn root \n",
        "\n",
        "\t# If the key to be deleted is smaller than the root's \n",
        "\t# key then it lies in left subtree \n",
        "\tif key < root.key: \n",
        "\t\troot.left = deleteNode(root.left, key) \n",
        "\n",
        "\t# If the kye to be delete is greater than the root's key \n",
        "\t# then it lies in right subtree \n",
        "\telif(key > root.key): \n",
        "\t\troot.right = deleteNode(root.right, key) \n",
        "\n",
        "\t# If key is same as root's key, then this is the node \n",
        "\t# to be deleted \n",
        "\telse: \n",
        "\t\t\n",
        "\t\t# Node with only one child or no child \n",
        "\t\tif root.left is None : \n",
        "\t\t\ttemp = root.right \n",
        "\t\t\troot = None\n",
        "\t\t\treturn temp \n",
        "\t\t\t\n",
        "\t\telif root.right is None : \n",
        "\t\t\ttemp = root.left \n",
        "\t\t\troot = None\n",
        "\t\t\treturn temp \n",
        "\n",
        "\t\t# Node with two children: Get the inorder successor \n",
        "\t\t# (smallest in the right subtree) \n",
        "\t\ttemp = minValueNode(root.right) \n",
        "\n",
        "\t\t# Copy the inorder successor's content to this node \n",
        "\t\troot.key = temp.key \n",
        "\n",
        "\t\t# Delete the inorder successor \n",
        "\t\troot.right = deleteNode(root.right , temp.key) \n",
        "\n",
        "\n",
        "\treturn root \n",
        "\n",
        "# Driver program to test above functions \n",
        "\"\"\" Let us create following BST \n",
        "\t\t\t50 \n",
        "\t\t/\t \\ \n",
        "\t\t30\t 70 \n",
        "\t\t/ \\ / \\ \n",
        "\t20 40 60 80 \"\"\"\n",
        "\n",
        "root = None\n",
        "root = insert(root, 50) \n",
        "root = insert(root, 30) \n",
        "root = insert(root, 20) \n",
        "root = insert(root, 40) \n",
        "root = insert(root, 70) \n",
        "root = insert(root, 60) \n",
        "root = insert(root, 80) \n",
        "\n",
        "print \"Inorder traversal of the given tree\"\n",
        "inorder(root) \n",
        "\n",
        "print \"\\nDelete 20\"\n",
        "root = deleteNode(root, 20) \n",
        "print \"Inorder traversal of the modified tree\"\n",
        "inorder(root) \n",
        "\n",
        "print \"\\nDelete 30\"\n",
        "root = deleteNode(root, 30) \n",
        "print \"Inorder traversal of the modified tree\"\n",
        "inorder(root) \n",
        "\n",
        "print \"\\nDelete 50\"\n",
        "root = deleteNode(root, 50) \n",
        "print \"Inorder traversal of the modified tree\"\n",
        "inorder(root) \n",
        "\n",
        "# This code is contributed by Nikhil Kumar Singh(nickzuck_007) \n"
      ],
      "execution_count": null,
      "outputs": []
    },
    {
      "cell_type": "code",
      "metadata": {
        "id": "KRQHGJLc7obO",
        "colab_type": "code",
        "colab": {}
      },
      "source": [
        "# Set up tree\n",
        "tree = BinaryTree(1)\n",
        "tree.root.left = Node(2)\n",
        "tree.root.right = Node(3)\n",
        "tree.root.left.left = Node(4)\n",
        "tree.root.left.right = Node(5)\n",
        "\n",
        "# Test search\n",
        "# Should be True\n",
        "print(tree.search(4))\n",
        "# Should be False\n",
        "print(tree.search(6))\n",
        "\n",
        "# Test print_tree\n",
        "# Should be 1-2-4-5-3\n",
        "print(tree.print_tree())"
      ],
      "execution_count": null,
      "outputs": []
    }
  ]
}