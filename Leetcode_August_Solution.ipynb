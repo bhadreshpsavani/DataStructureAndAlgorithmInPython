{
  "nbformat": 4,
  "nbformat_minor": 0,
  "metadata": {
    "colab": {
      "name": "Leetcode-August-Solution.ipynb",
      "provenance": [],
      "authorship_tag": "ABX9TyOcWn8jyBFwUTAgaX4gs2dJ",
      "include_colab_link": true
    },
    "kernelspec": {
      "name": "python3",
      "display_name": "Python 3"
    }
  },
  "cells": [
    {
      "cell_type": "markdown",
      "metadata": {
        "id": "view-in-github",
        "colab_type": "text"
      },
      "source": [
        "<a href=\"https://colab.research.google.com/github/bhadreshpsavani/Python-Notes/blob/master/Leetcode_August_Solution.ipynb\" target=\"_parent\"><img src=\"https://colab.research.google.com/assets/colab-badge.svg\" alt=\"Open In Colab\"/></a>"
      ]
    },
    {
      "cell_type": "markdown",
      "metadata": {
        "id": "_fCDk8thRFsr",
        "colab_type": "text"
      },
      "source": [
        "## Day1: Detect Capital"
      ]
    },
    {
      "cell_type": "code",
      "metadata": {
        "id": "C53ZSdzRRFFp",
        "colab_type": "code",
        "colab": {}
      },
      "source": [
        "import re\n",
        "class Solution:\n",
        "    def detectCapitalUse(self, word: str) -> bool:\n",
        "        return re.fullmatch(r\"[A-Z]*|.[a-z]*\", word)"
      ],
      "execution_count": 1,
      "outputs": []
    },
    {
      "cell_type": "markdown",
      "metadata": {
        "id": "cOPLGTduSS0i",
        "colab_type": "text"
      },
      "source": [
        "## Day2: Design Hashset"
      ]
    },
    {
      "cell_type": "code",
      "metadata": {
        "id": "3m0MGebORAOK",
        "colab_type": "code",
        "colab": {}
      },
      "source": [
        "class MyHashSet:\n",
        "\n",
        "    def __init__(self):\n",
        "        \"\"\"\n",
        "        Initialize your data structure here.\n",
        "        \"\"\"\n",
        "        self.arr = [[] for i in range(1000)]\n",
        "    \n",
        "    def hash(self, key:int):\n",
        "        return key % 1000\n",
        "\n",
        "    def add(self, key: int) -> None:\n",
        "        hashkey = self.hash(key)\n",
        "        if not self.contains(key):\n",
        "            self.arr[hashkey].append(key)\n",
        "\n",
        "    def remove(self, key: int) -> None:\n",
        "        hashkey = self.hash(key)\n",
        "        if self.contains(key):\n",
        "            self.arr[hashkey].remove(key)\n",
        "            \n",
        "    def contains(self, key: int) -> bool:\n",
        "        \"\"\"\n",
        "        Returns true if this set contains the specified element\n",
        "        \"\"\"\n",
        "        hashkey = self.hash(key)\n",
        "        return key in self.arr[hashkey]\n"
      ],
      "execution_count": null,
      "outputs": []
    }
  ]
}