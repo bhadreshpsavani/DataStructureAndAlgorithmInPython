{
  "nbformat": 4,
  "nbformat_minor": 0,
  "metadata": {
    "colab": {
      "name": "Leetcode-August-Solution.ipynb",
      "provenance": [],
      "authorship_tag": "ABX9TyPUWE5caX+xb+Xn6TwOlRnT",
      "include_colab_link": true
    },
    "kernelspec": {
      "name": "python3",
      "display_name": "Python 3"
    }
  },
  "cells": [
    {
      "cell_type": "markdown",
      "metadata": {
        "id": "view-in-github",
        "colab_type": "text"
      },
      "source": [
        "<a href=\"https://colab.research.google.com/github/bhadreshpsavani/Python-Notes/blob/master/Leetcode_August_Solution.ipynb\" target=\"_parent\"><img src=\"https://colab.research.google.com/assets/colab-badge.svg\" alt=\"Open In Colab\"/></a>"
      ]
    },
    {
      "cell_type": "markdown",
      "metadata": {
        "id": "_fCDk8thRFsr",
        "colab_type": "text"
      },
      "source": [
        "## Day1: Detect Capital"
      ]
    },
    {
      "cell_type": "code",
      "metadata": {
        "id": "C53ZSdzRRFFp",
        "colab_type": "code",
        "colab": {}
      },
      "source": [
        "import re\n",
        "class Solution:\n",
        "    def detectCapitalUse(self, word: str) -> bool:\n",
        "        return re.fullmatch(r\"[A-Z]*|.[a-z]*\", word)"
      ],
      "execution_count": null,
      "outputs": []
    },
    {
      "cell_type": "markdown",
      "metadata": {
        "id": "cOPLGTduSS0i",
        "colab_type": "text"
      },
      "source": [
        "## Day2: Design Hashset"
      ]
    },
    {
      "cell_type": "code",
      "metadata": {
        "id": "3m0MGebORAOK",
        "colab_type": "code",
        "colab": {}
      },
      "source": [
        "class MyHashSet:\n",
        "\n",
        "    def __init__(self):\n",
        "        \"\"\"\n",
        "        Initialize your data structure here.\n",
        "        \"\"\"\n",
        "        self.arr = [[] for i in range(1000)]\n",
        "    \n",
        "    def hash(self, key:int):\n",
        "        return key % 1000\n",
        "\n",
        "    def add(self, key: int) -> None:\n",
        "        hashkey = self.hash(key)\n",
        "        if not self.contains(key):\n",
        "            self.arr[hashkey].append(key)\n",
        "\n",
        "    def remove(self, key: int) -> None:\n",
        "        hashkey = self.hash(key)\n",
        "        if self.contains(key):\n",
        "            self.arr[hashkey].remove(key)\n",
        "            \n",
        "    def contains(self, key: int) -> bool:\n",
        "        \"\"\"\n",
        "        Returns true if this set contains the specified element\n",
        "        \"\"\"\n",
        "        hashkey = self.hash(key)\n",
        "        return key in self.arr[hashkey]\n"
      ],
      "execution_count": null,
      "outputs": []
    },
    {
      "cell_type": "markdown",
      "metadata": {
        "id": "FCmLlnW-GwKE",
        "colab_type": "text"
      },
      "source": [
        "## Day3: Valid Palindrome"
      ]
    },
    {
      "cell_type": "code",
      "metadata": {
        "id": "SzimmfE4GvFu",
        "colab_type": "code",
        "colab": {}
      },
      "source": [
        "import re\n",
        "\n",
        "class Solution:\n",
        "    def isPalindrome(self, s: str) -> bool:\n",
        "        p_str = (\"\".join(re.findall(r\"[A-Za-z0-9]\",s))).lower()\n",
        "        if len(p_str)&1==0 and p_str[:len(p_str)//2]==p_str[len(p_str)//2:][::-1]:\n",
        "            return True\n",
        "        elif len(p_str)&1!=0 and p_str[:len(p_str)//2]==p_str[(len(p_str)//2)+1:][::-1]:\n",
        "            return True\n",
        "        else:\n",
        "            return False"
      ],
      "execution_count": null,
      "outputs": []
    },
    {
      "cell_type": "markdown",
      "metadata": {
        "id": "Fvm4zvrymxXK",
        "colab_type": "text"
      },
      "source": [
        "## Power of Four"
      ]
    },
    {
      "cell_type": "code",
      "metadata": {
        "id": "yf4P18s8mzXI",
        "colab_type": "code",
        "colab": {}
      },
      "source": [
        "def isPowerOfFour(self, n: int) -> bool:\n",
        "    return (n != 0 and ((n & (n - 1)) == 0) and not(n & 0xAAAAAAAA))"
      ],
      "execution_count": null,
      "outputs": []
    },
    {
      "cell_type": "markdown",
      "metadata": {
        "id": "7hC4qQCwzmqr",
        "colab_type": "text"
      },
      "source": [
        "## Add and Search Word - Data structure design"
      ]
    },
    {
      "cell_type": "code",
      "metadata": {
        "id": "69WikMsUm30r",
        "colab_type": "code",
        "colab": {}
      },
      "source": [
        "import re\n",
        "\n",
        "class WordDictionary:\n",
        "\n",
        "    def __init__(self):\n",
        "        \"\"\"\n",
        "        Initialize your data structure here.\n",
        "        \"\"\"\n",
        "        self.trie = dict()\n",
        "        \n",
        "\n",
        "    def addWord(self, word: str) -> None:\n",
        "        \"\"\"\n",
        "        Adds a word into the data structure.\n",
        "        \"\"\"\n",
        "        trie = self.trie\n",
        "        for w in word:\n",
        "            if w not in trie:\n",
        "                trie[w] = dict()\n",
        "                trie = trie[w]\n",
        "            else:\n",
        "                trie = trie[w]\n",
        "        trie['exist'] = 1\n",
        "        \n",
        "\n",
        "    def search(self, word: str) -> bool:\n",
        "        \"\"\"\n",
        "        Returns if the word is in the data structure. A word could contain the dot character '.' to represent any one letter.\n",
        "        \"\"\"\n",
        "        return self._search(word, self.trie)\n",
        "    \n",
        "    def _search(self, word:str, cur:dict) -> bool:\n",
        "        print(word, cur)\n",
        "        if len(word) == 0:\n",
        "            return 'exist' in cur\n",
        "        else:\n",
        "            if word[0] == '.':\n",
        "                ans = False\n",
        "                for key in cur:\n",
        "                    if key != 'exist':\n",
        "                        ans = ans or self._search(word[1:], cur[key])\n",
        "                return ans\n",
        "            elif word[0] in cur:\n",
        "                return self._search(word[1:], cur[word[0]])\n",
        "            else:\n",
        "                return False\n",
        "\n",
        "\n",
        "# Your WordDictionary object will be instantiated and called as such:\n",
        "# obj = WordDictionary()\n",
        "# obj.addWord(word)\n",
        "# param_2 = obj.search(word)"
      ],
      "execution_count": null,
      "outputs": []
    }
  ]
}