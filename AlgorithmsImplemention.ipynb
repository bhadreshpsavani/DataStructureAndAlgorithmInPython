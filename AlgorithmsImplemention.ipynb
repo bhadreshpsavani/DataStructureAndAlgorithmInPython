{
  "nbformat": 4,
  "nbformat_minor": 0,
  "metadata": {
    "colab": {
      "name": "AlgorithmsImplemention.ipynb",
      "provenance": [],
      "authorship_tag": "ABX9TyNPEsNqYE2SMZUVSSQs1qQ/",
      "include_colab_link": true
    },
    "kernelspec": {
      "name": "python3",
      "display_name": "Python 3"
    }
  },
  "cells": [
    {
      "cell_type": "markdown",
      "metadata": {
        "id": "view-in-github",
        "colab_type": "text"
      },
      "source": [
        "<a href=\"https://colab.research.google.com/github/bhadreshpsavani/Python-Notes/blob/master/AlgorithmsImplemention.ipynb\" target=\"_parent\"><img src=\"https://colab.research.google.com/assets/colab-badge.svg\" alt=\"Open In Colab\"/></a>"
      ]
    },
    {
      "cell_type": "markdown",
      "metadata": {
        "id": "VkQcOrI7GQT_",
        "colab_type": "text"
      },
      "source": [
        "## Task Ordering Problem\n",
        "[blog](https://johnlekberg.com/blog/2020-08-01-task-order.html)"
      ]
    },
    {
      "cell_type": "code",
      "metadata": {
        "id": "iu2indcoGc6d",
        "colab_type": "code",
        "colab": {}
      },
      "source": [
        "from itertools import permutations, combinations"
      ],
      "execution_count": 2,
      "outputs": []
    },
    {
      "cell_type": "code",
      "metadata": {
        "id": "thgmAvwIGHKu",
        "colab_type": "code",
        "colab": {}
      },
      "source": [
        "def task_order_bf(*, tasks, constraints):\n",
        "    \"\"\"Solve the 'Task Ordering' problem using brute force.\n",
        "    \n",
        "    tasks -- a set of tasks.\n",
        "    constraints -- a dictionary that maps each task to\n",
        "        all the tasks that must come after.\n",
        "    \"\"\"\n",
        "    for candidate in permutations(tasks):\n",
        "        print(candidate)\n",
        "        print([(before, after, before not in constraints[after])\n",
        "            for before, after in combinations(candidate, 2) if after in constraints\n",
        "        ])\n",
        "        good = all(\n",
        "            before not in constraints[after]\n",
        "            for before, after in combinations(candidate, 2)\n",
        "            if after in constraints\n",
        "        )\n",
        "        if good:\n",
        "            return candidate"
      ],
      "execution_count": 15,
      "outputs": []
    },
    {
      "cell_type": "code",
      "metadata": {
        "id": "rcTyPd6tGZcw",
        "colab_type": "code",
        "colab": {
          "base_uri": "https://localhost:8080/",
          "height": 1000
        },
        "outputId": "67d30f52-2440-4262-b420-7ca680d84dee"
      },
      "source": [
        "tasks = {\"A\", \"B\", \"C\", \"D\", \"E\"}\n",
        "constraints = {\n",
        "    \"E\": {\"A\"},\n",
        "    \"D\": {\"B\", \"C\"},\n",
        "    \"B\": {\"C\"},\n",
        "    \"D\": {\"E\"},\n",
        "}\n",
        "\n",
        "task_order_bf(tasks=tasks, constraints=constraints)"
      ],
      "execution_count": 16,
      "outputs": [
        {
          "output_type": "stream",
          "text": [
            "('E', 'B', 'C', 'D', 'A')\n",
            "[('E', 'B', True), ('E', 'D', False), ('B', 'D', True), ('C', 'D', True)]\n",
            "('E', 'B', 'C', 'A', 'D')\n",
            "[('E', 'B', True), ('E', 'D', False), ('B', 'D', True), ('C', 'D', True), ('A', 'D', True)]\n",
            "('E', 'B', 'D', 'C', 'A')\n",
            "[('E', 'B', True), ('E', 'D', False), ('B', 'D', True)]\n",
            "('E', 'B', 'D', 'A', 'C')\n",
            "[('E', 'B', True), ('E', 'D', False), ('B', 'D', True)]\n",
            "('E', 'B', 'A', 'C', 'D')\n",
            "[('E', 'B', True), ('E', 'D', False), ('B', 'D', True), ('A', 'D', True), ('C', 'D', True)]\n",
            "('E', 'B', 'A', 'D', 'C')\n",
            "[('E', 'B', True), ('E', 'D', False), ('B', 'D', True), ('A', 'D', True)]\n",
            "('E', 'C', 'B', 'D', 'A')\n",
            "[('E', 'B', True), ('E', 'D', False), ('C', 'B', False), ('C', 'D', True), ('B', 'D', True)]\n",
            "('E', 'C', 'B', 'A', 'D')\n",
            "[('E', 'B', True), ('E', 'D', False), ('C', 'B', False), ('C', 'D', True), ('B', 'D', True), ('A', 'D', True)]\n",
            "('E', 'C', 'D', 'B', 'A')\n",
            "[('E', 'D', False), ('E', 'B', True), ('C', 'D', True), ('C', 'B', False), ('D', 'B', True)]\n",
            "('E', 'C', 'D', 'A', 'B')\n",
            "[('E', 'D', False), ('E', 'B', True), ('C', 'D', True), ('C', 'B', False), ('D', 'B', True), ('A', 'B', True)]\n",
            "('E', 'C', 'A', 'B', 'D')\n",
            "[('E', 'B', True), ('E', 'D', False), ('C', 'B', False), ('C', 'D', True), ('A', 'B', True), ('A', 'D', True), ('B', 'D', True)]\n",
            "('E', 'C', 'A', 'D', 'B')\n",
            "[('E', 'D', False), ('E', 'B', True), ('C', 'D', True), ('C', 'B', False), ('A', 'D', True), ('A', 'B', True), ('D', 'B', True)]\n",
            "('E', 'D', 'B', 'C', 'A')\n",
            "[('E', 'D', False), ('E', 'B', True), ('D', 'B', True)]\n",
            "('E', 'D', 'B', 'A', 'C')\n",
            "[('E', 'D', False), ('E', 'B', True), ('D', 'B', True)]\n",
            "('E', 'D', 'C', 'B', 'A')\n",
            "[('E', 'D', False), ('E', 'B', True), ('D', 'B', True), ('C', 'B', False)]\n",
            "('E', 'D', 'C', 'A', 'B')\n",
            "[('E', 'D', False), ('E', 'B', True), ('D', 'B', True), ('C', 'B', False), ('A', 'B', True)]\n",
            "('E', 'D', 'A', 'B', 'C')\n",
            "[('E', 'D', False), ('E', 'B', True), ('D', 'B', True), ('A', 'B', True)]\n",
            "('E', 'D', 'A', 'C', 'B')\n",
            "[('E', 'D', False), ('E', 'B', True), ('D', 'B', True), ('A', 'B', True), ('C', 'B', False)]\n",
            "('E', 'A', 'B', 'C', 'D')\n",
            "[('E', 'B', True), ('E', 'D', False), ('A', 'B', True), ('A', 'D', True), ('B', 'D', True), ('C', 'D', True)]\n",
            "('E', 'A', 'B', 'D', 'C')\n",
            "[('E', 'B', True), ('E', 'D', False), ('A', 'B', True), ('A', 'D', True), ('B', 'D', True)]\n",
            "('E', 'A', 'C', 'B', 'D')\n",
            "[('E', 'B', True), ('E', 'D', False), ('A', 'B', True), ('A', 'D', True), ('C', 'B', False), ('C', 'D', True), ('B', 'D', True)]\n",
            "('E', 'A', 'C', 'D', 'B')\n",
            "[('E', 'D', False), ('E', 'B', True), ('A', 'D', True), ('A', 'B', True), ('C', 'D', True), ('C', 'B', False), ('D', 'B', True)]\n",
            "('E', 'A', 'D', 'B', 'C')\n",
            "[('E', 'D', False), ('E', 'B', True), ('A', 'D', True), ('A', 'B', True), ('D', 'B', True)]\n",
            "('E', 'A', 'D', 'C', 'B')\n",
            "[('E', 'D', False), ('E', 'B', True), ('A', 'D', True), ('A', 'B', True), ('D', 'B', True), ('C', 'B', False)]\n",
            "('B', 'E', 'C', 'D', 'A')\n",
            "[('B', 'E', True), ('B', 'D', True), ('E', 'D', False), ('C', 'D', True)]\n",
            "('B', 'E', 'C', 'A', 'D')\n",
            "[('B', 'E', True), ('B', 'D', True), ('E', 'D', False), ('C', 'D', True), ('A', 'D', True)]\n",
            "('B', 'E', 'D', 'C', 'A')\n",
            "[('B', 'E', True), ('B', 'D', True), ('E', 'D', False)]\n",
            "('B', 'E', 'D', 'A', 'C')\n",
            "[('B', 'E', True), ('B', 'D', True), ('E', 'D', False)]\n",
            "('B', 'E', 'A', 'C', 'D')\n",
            "[('B', 'E', True), ('B', 'D', True), ('E', 'D', False), ('A', 'D', True), ('C', 'D', True)]\n",
            "('B', 'E', 'A', 'D', 'C')\n",
            "[('B', 'E', True), ('B', 'D', True), ('E', 'D', False), ('A', 'D', True)]\n",
            "('B', 'C', 'E', 'D', 'A')\n",
            "[('B', 'E', True), ('B', 'D', True), ('C', 'E', True), ('C', 'D', True), ('E', 'D', False)]\n",
            "('B', 'C', 'E', 'A', 'D')\n",
            "[('B', 'E', True), ('B', 'D', True), ('C', 'E', True), ('C', 'D', True), ('E', 'D', False), ('A', 'D', True)]\n",
            "('B', 'C', 'D', 'E', 'A')\n",
            "[('B', 'D', True), ('B', 'E', True), ('C', 'D', True), ('C', 'E', True), ('D', 'E', True)]\n"
          ],
          "name": "stdout"
        },
        {
          "output_type": "execute_result",
          "data": {
            "text/plain": [
              "('B', 'C', 'D', 'E', 'A')"
            ]
          },
          "metadata": {
            "tags": []
          },
          "execution_count": 16
        }
      ]
    },
    {
      "cell_type": "code",
      "metadata": {
        "id": "02PE1Bx9IGPz",
        "colab_type": "code",
        "colab": {}
      },
      "source": [
        ""
      ],
      "execution_count": null,
      "outputs": []
    }
  ]
}